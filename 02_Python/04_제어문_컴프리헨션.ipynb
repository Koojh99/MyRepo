{
 "cells": [
  {
   "cell_type": "markdown",
   "id": "8c49cd8e",
   "metadata": {
    "slideshow": {
     "slide_type": "slide"
    }
   },
   "source": [
    "# 제어문(Control flow statement)\n",
    "\n",
    "기본적으로 프로그램은 순차구조를 가진다. 즉 작성한 순서대로 실행이 된다.  \n",
    "이런 실행흐름을 다른 순서로 제어하기 위한 구문을 만드는 문법이 제어문이다.  \n",
    "제어문은 **조건문** 과 **반복문** 두가지 문법이 있다.\n",
    "\n",
    "-   **조건문**\n",
    "    -   if 문\n",
    "-   **반복문**\n",
    "    -   while 문\n",
    "    -   for in 문\n"
   ]
  },
  {
   "cell_type": "markdown",
   "id": "92c502ce",
   "metadata": {
    "slideshow": {
     "slide_type": "slide"
    }
   },
   "source": [
    "# 조건문/분기문 (conditional statement)\n",
    "\n",
    "-   프로그램이 명령문들을 실행하는 도중 특정 순서에서 **조건에 따라 흐름의 나눠져야 하는 경우 사용한다**\n",
    "-   파이썬은 조건문으로 **if문**이 있다.\n",
    "\n",
    "![조건문](images/ch03_01.png)\n",
    "\n",
    "<center>입력 받은 a 의 값이 0인지 여부에 따라 두가지 흐름으로 분기된다.</center>\n"
   ]
  },
  {
   "cell_type": "markdown",
   "id": "2a3c1835",
   "metadata": {
    "slideshow": {
     "slide_type": "subslide"
    }
   },
   "source": [
    "## 구문\n",
    "\n",
    "-   조건이 True일 경우만 특정 구문들을 실행 하는 조건문.\n",
    "\n",
    "```python\n",
    "if 조건:    # 조건은 bool 표현식을 기술한다. 조건선언 다음에 : 으로 선언해서 코드블록을 구분한다.\n",
    "    명령문1  # 조건이 True이면 실행할 구문들을 코드블럭에 기술한다.\n",
    "    명령문2  # 코드 블록은 들여쓰기를 이용해 묶어준다. 보통 공백 4칸으로 들여쓰기를 한다.\n",
    "    ...\n",
    "```\n",
    "\n",
    "> ### 파이썬의 코드블록(code block)\n",
    ">\n",
    "> 코드블록이란 **여러 명령문들을 묶어놓은 것을** 말한다. 코드블록으로 묶이면 실행시 같이 다 실행되고 실행이 안되면 같이 다 실행이 안된다.  \n",
    "> 파이썬에서는 코드블록을 작성할 때 **들여쓰기를 이용해 묶어준다.**  \n",
    "> 같은 칸만큼 들여쓰기를 한 명령문들이 같은 블록으로 묶인다.\n",
    "> 들여쓰기는 관례적으로 **공백 4칸을** 사용한다.\n",
    "\n",
    "> ### pass 키워드(예약어)\n",
    ">\n",
    "> -   빈 구현부를 만들때 사용\n",
    ">     -   제어문, 함수의 body 코드블럭은 비울 수 없다. 반드시 명령문을 한개 이상 작성해야한다.\n",
    ">     -   작성할 내용이 없을 경우 사용하는 키워드로 `pass`를 사용한다.\n"
   ]
  },
  {
   "cell_type": "code",
   "execution_count": 1,
   "id": "9aa311a5",
   "metadata": {
    "slideshow": {
     "slide_type": "fragment"
    }
   },
   "outputs": [
    {
     "name": "stdin",
     "output_type": "stream",
     "text": [
      "정수: 3\n"
     ]
    },
    {
     "name": "stdout",
     "output_type": "stream",
     "text": [
      "종료\n"
     ]
    }
   ],
   "source": [
    "num = int(input(\"정수:\"))\n",
    "# num이 0이면 \"영입니다.\" 를 출력.\n",
    "if num == 0: # 선언부 , 이 조건에 맞으면 하고, 아니면 넘겨라 \n",
    "    print(\"0입니다.\")\n",
    "print(\"종료\")"
   ]
  },
  {
   "cell_type": "code",
   "execution_count": 2,
   "id": "533de0fa-b05d-4130-9b15-9ec251437079",
   "metadata": {},
   "outputs": [
    {
     "name": "stdin",
     "output_type": "stream",
     "text": [
      ">>>정수: 3\n"
     ]
    },
    {
     "name": "stdout",
     "output_type": "stream",
     "text": [
      "종료\n"
     ]
    }
   ],
   "source": [
    "num = int(input(\">>>정수:\"))\n",
    "# num이 0이면 \"영입니다.\" 를 출력. \n",
    "if num ==0: # 선언부 \n",
    "    print(\"0입니다.\")\n",
    "    print(\"Zero.\")\n",
    "    print(\"영\")\n",
    "\n",
    "print(\"종료\")"
   ]
  },
  {
   "cell_type": "code",
   "execution_count": 3,
   "id": "0f1c5f9d-2ef3-4b7a-8af3-8bb88a8e82bd",
   "metadata": {},
   "outputs": [
    {
     "name": "stdout",
     "output_type": "stream",
     "text": [
      "영이아닙니다.\n"
     ]
    }
   ],
   "source": [
    "num = 10\n",
    "if num == 0: \n",
    "    print(\"영입니다.\")\n",
    "else:\n",
    "    print(\"영이아닙니다.\")"
   ]
  },
  {
   "cell_type": "markdown",
   "id": "09c79c35",
   "metadata": {
    "slideshow": {
     "slide_type": "subslide"
    }
   },
   "source": [
    "-   **조건이 True일 때 False일때 실행 구문이 분기되는 조건문.**\n",
    "\n",
    "```python\n",
    "if 조건:\n",
    "    명령문1_1 # 조건이 True일 경우 실행할 구문들\n",
    "    명령문1_2\n",
    "    ...\n",
    "else:\n",
    "    명령문2_1 # 조건이 False일 경우 실행할 구문들\n",
    "    명령문2_2\n",
    "    ...\n",
    "```\n"
   ]
  },
  {
   "cell_type": "code",
   "execution_count": 4,
   "id": "87b51956",
   "metadata": {
    "slideshow": {
     "slide_type": "fragment"
    }
   },
   "outputs": [
    {
     "name": "stdin",
     "output_type": "stream",
     "text": [
      "정수: 3\n"
     ]
    },
    {
     "name": "stdout",
     "output_type": "stream",
     "text": [
      "입력받은 숫자:3\n"
     ]
    }
   ],
   "source": [
    "num = int(input(\"정수:\"))\n",
    "if num == 0:\n",
    "    print(\"영입니다.\")\n",
    "else:\n",
    "    print(f\"입력받은 숫자:{num}\")"
   ]
  },
  {
   "cell_type": "code",
   "execution_count": 5,
   "id": "190300b8-07e9-41f4-adfd-f40436978dca",
   "metadata": {},
   "outputs": [
    {
     "name": "stdin",
     "output_type": "stream",
     "text": [
      ">>>정수: 3\n"
     ]
    }
   ],
   "source": [
    "num = int(input(\">>>정수:\"))\n",
    "if num ==0:\n",
    "    pass\n",
    "else:\n",
    "    pass"
   ]
  },
  {
   "cell_type": "markdown",
   "id": "621eae9a",
   "metadata": {
    "slideshow": {
     "slide_type": "subslide"
    }
   },
   "source": [
    "-   **조건이 여러 개인 조건문.**\n",
    "\n",
    "```python\n",
    "if 조건1:\n",
    "    명령문1_1  # 조건1이 True일 경우 실행할 코드블록.\n",
    "    명령문1_2\n",
    "    ...\n",
    "elif 조건2:    # 다음 조건으로 앞의 조건들이 모드 False일 경우 비교한다.\n",
    "    명령문2_1  # 조건2가 True일 경우 실행할 코드블록.\n",
    "    명령문2_2\n",
    "    ...\n",
    "elif 조건3 :\n",
    "    명령문3_1\n",
    "    명령문3_2\n",
    "    ...\n",
    "else:         # 위의 모든 조건이 False일 경우 실행하는 코드블록. 생략 가능하다.\n",
    "    명령문4\n",
    "```\n"
   ]
  },
  {
   "cell_type": "code",
   "execution_count": 6,
   "id": "4c6a532d",
   "metadata": {
    "slideshow": {
     "slide_type": "fragment"
    }
   },
   "outputs": [
    {
     "name": "stdin",
     "output_type": "stream",
     "text": [
      ">>>정수: 3\n"
     ]
    }
   ],
   "source": [
    "# 일단 가설계, 출력해도 아무 이상 없으므로\n",
    "num = int(input(\">>>정수:\"))\n",
    "if num ==0:\n",
    "    pass\n",
    "elif num > 0:\n",
    "    pass\n",
    "elif num < 0:\n",
    "    pass"
   ]
  },
  {
   "cell_type": "code",
   "execution_count": 7,
   "id": "0ea2f23b-2e61-4b27-aee5-553b2a797307",
   "metadata": {},
   "outputs": [
    {
     "name": "stdin",
     "output_type": "stream",
     "text": [
      ">>>정수: 3\n"
     ]
    },
    {
     "name": "stdout",
     "output_type": "stream",
     "text": [
      "양수입니다.\n"
     ]
    }
   ],
   "source": [
    "num = int(input(\">>>정수:\"))\n",
    "if num ==0:\n",
    "    print(\"영입니다.\")\n",
    "elif num > 0:\n",
    "    print(\"양수입니다.\")\n",
    "else:\n",
    "    print(\"음수입니다.\")"
   ]
  },
  {
   "cell_type": "markdown",
   "id": "2149b728",
   "metadata": {
    "slideshow": {
     "slide_type": "slide"
    }
   },
   "source": [
    "# 반복문 (Loop statement)\n",
    "\n",
    "특정 구문들을 반복해서 실행할 때 사용한다. 동일한 코드를 여러번 반복하거나 값이 일정하게 변하는 코드를 반복할 경우 사용한다.  \n",
    "단순 반복을 처리하는 **while문**과 iterable객체가 제공하는 값들을 반복 조회하는 **for in문** 두가지 문법이 있다.\n",
    "\n",
    "![반복문](images/ch03_02.png)\n",
    "\n",
    "<center>count의 값이 limit의 값보다 크거나 같을때 까지 count의 값을 1증가 후 출력하는 구문을 반복한다. </center>\n"
   ]
  },
  {
   "cell_type": "markdown",
   "id": "b4740a36",
   "metadata": {
    "slideshow": {
     "slide_type": "subslide"
    }
   },
   "source": [
    "## while문\n",
    "\n",
    "-   조건이 True인 동안 구문을 반복해서 실행한다.\n",
    "\n",
    "### 구문\n",
    "\n",
    "```python\n",
    "while 조건:       # 조건은 bool 표현식을 기술한다. 조건선언 다음에 : 으로 선언해서 코드블록을 구분한다\n",
    "    반복할 구문1  # 반복할 구문을 코드블록으로 작성한다.\n",
    "    반복할 구문2\n",
    "    ...\n",
    "```\n"
   ]
  },
  {
   "cell_type": "code",
   "execution_count": 8,
   "id": "6b11bde6",
   "metadata": {
    "slideshow": {
     "slide_type": "fragment"
    }
   },
   "outputs": [
    {
     "name": "stdout",
     "output_type": "stream",
     "text": [
      "1. 안녕하세요.\n",
      "2. 안녕하세요.\n",
      "3. 안녕하세요.\n",
      "4. 안녕하세요.\n",
      "5. 안녕하세요.\n",
      "6. 안녕하세요.\n",
      "7. 안녕하세요.\n",
      "8. 안녕하세요.\n",
      "9. 안녕하세요.\n",
      "10. 안녕하세요.\n",
      "종료\n"
     ]
    }
   ],
   "source": [
    "count = 0\n",
    "limit = 10\n",
    "while count < limit:    # 조건\n",
    "    count +=1  # count = count + 1\n",
    "    print(f\"{count}. 안녕하세요.\")\n",
    "print(\"종료\")"
   ]
  },
  {
   "cell_type": "markdown",
   "id": "04f12e55",
   "metadata": {
    "slideshow": {
     "slide_type": "subslide"
    }
   },
   "source": [
    "## for in 문\n",
    "\n",
    "-   Iterable 객체를 순환조회하는 구문\n",
    "    -   for in문은 Iterable 타입의 객체가 가지고 있는 값들을 하나씩 처리하는 구문을 작성할 때 사용한다.\n",
    "\n",
    "> -   **Iterable**\n",
    ">     -   반복가능한 객체. 반복문(for in)을 이용해 일련의 값들을 반복적으로 각각 제공하는 객체를 말한다.\n",
    ">     -   대표적으로 List, Tuple, Dictionary, Set, 문자열 등이 있다.\n",
    "\n",
    "### 구문\n",
    "\n",
    "```python\n",
    "for 변수 in Iterable: # for in 선언후 : 으로 선언부와 구현부를 나눈다.\n",
    "    반복구문          # Iterable이 반복시 제공하는 값을 가지는 \"변수\"를 이용해 값들을 처리하는 구문을 코드블록으로 작성한다.\n",
    "    반복구문\n",
    "```\n"
   ]
  },
  {
   "cell_type": "code",
   "execution_count": 9,
   "id": "da0ce0f6",
   "metadata": {
    "slideshow": {
     "slide_type": "fragment"
    }
   },
   "outputs": [
    {
     "name": "stdout",
     "output_type": "stream",
     "text": [
      "10\t15\t100\t20\t30\t500\t"
     ]
    }
   ],
   "source": [
    "l = [10,15,100,20,30,500]\n",
    "# l의 모든 원소들을 출력 (Iterable(반복대상):l, 일괄처리: 출력)\n",
    "# print(l[0])\n",
    "# print(l[1])\n",
    "# print(l[2])\n",
    "for v in l:\n",
    "    print(v,end=\"\\t\")"
   ]
  },
  {
   "cell_type": "code",
   "execution_count": 10,
   "id": "aa7a13c1-fbc8-4f10-aa4a-9547b69bd53d",
   "metadata": {},
   "outputs": [
    {
     "name": "stdout",
     "output_type": "stream",
     "text": [
      "[20, 30, 200, 40, 60, 1000]\n"
     ]
    }
   ],
   "source": [
    "# l의 모든 값들을 두배로 늘리기. (iterable: l, 일괄처리: 두배)\n",
    "result = []\n",
    "for v in l:\n",
    "    # print(v * 2)\n",
    "    result.append(v*2)\n",
    "print(result)"
   ]
  },
  {
   "cell_type": "code",
   "execution_count": 11,
   "id": "5b481a1d-b7ee-446e-8a1d-869afe667a9c",
   "metadata": {},
   "outputs": [
    {
     "name": "stdout",
     "output_type": "stream",
     "text": [
      "[10, 15, 100, 20, 30, 500]\n",
      "[20, 30, 200, 40, 60, 1000]\n"
     ]
    }
   ],
   "source": [
    "print(l)\n",
    "print(result)"
   ]
  },
  {
   "cell_type": "code",
   "execution_count": 12,
   "id": "87e87bd6-a200-499b-a5f2-5c989024e438",
   "metadata": {},
   "outputs": [
    {
     "name": "stdout",
     "output_type": "stream",
     "text": [
      "10은 3의 배수가 아님.\n",
      "15\n",
      "100은 3의 배수가 아님.\n",
      "20은 3의 배수가 아님.\n",
      "30\n",
      "500은 3의 배수가 아님.\n"
     ]
    }
   ],
   "source": [
    "# 3의 배수를 찾기 (iterable:l, 일괄처리: 3의 배수인지 학인)\n",
    "for v in l:\n",
    "    if v % 3 == 0:  # 3의 나눠었을 때, 나머지가 0이면 3의 배수\n",
    "        print(v)\n",
    "    else:\n",
    "        print(f\"{v}은 3의 배수가 아님.\")"
   ]
  },
  {
   "cell_type": "code",
   "execution_count": null,
   "id": "266481e0-d754-462e-a84b-2ea2db71d1d7",
   "metadata": {},
   "outputs": [],
   "source": [
    "for v in l:\n",
    "    if v % 3 == 0:\n",
    "        print(v)\n",
    "    else:\n",
    "        print(\"3의배수가 아님\")\n",
    "\n",
    "data = []\n",
    "data.append().lambda(x:x if x%3==0 else "
   ]
  },
  {
   "cell_type": "code",
   "execution_count": 13,
   "id": "44598b1c-b529-450d-9473-92bfdea6800a",
   "metadata": {},
   "outputs": [
    {
     "name": "stdout",
     "output_type": "stream",
     "text": [
      "a 10\n",
      "b 20\n",
      "c 30\n"
     ]
    }
   ],
   "source": [
    "# dict\n",
    "d = {\"a\":10, \"b\":20, \"c\":30}\n",
    "for key in d:\n",
    "    print(key,d[key])  # d[ley]는 value값"
   ]
  },
  {
   "cell_type": "code",
   "execution_count": 14,
   "id": "5ab4b4e9-dce0-4420-8f32-723a2a7344f9",
   "metadata": {},
   "outputs": [
    {
     "name": "stdout",
     "output_type": "stream",
     "text": [
      "10\n",
      "20\n",
      "30\n"
     ]
    }
   ],
   "source": [
    "for v in d.values():\n",
    "    print(v)"
   ]
  },
  {
   "cell_type": "code",
   "execution_count": 15,
   "id": "cc28204f-d640-4e31-bc34-47c7b5e1d1a5",
   "metadata": {},
   "outputs": [
    {
     "data": {
      "text/plain": [
       "dict_items([('a', 10), ('b', 20), ('c', 30)])"
      ]
     },
     "execution_count": 15,
     "metadata": {},
     "output_type": "execute_result"
    }
   ],
   "source": [
    "d.items()   # ([(key,value])"
   ]
  },
  {
   "cell_type": "code",
   "execution_count": 16,
   "id": "bc54e07d-2baf-408e-93b6-10213f0bfc8a",
   "metadata": {},
   "outputs": [
    {
     "data": {
      "text/plain": [
       "('a', 10)"
      ]
     },
     "execution_count": 16,
     "metadata": {},
     "output_type": "execute_result"
    }
   ],
   "source": [
    "v = (\"a\",10)\n",
    "v"
   ]
  },
  {
   "cell_type": "code",
   "execution_count": 17,
   "id": "046d4208-e261-4b7a-86bc-1ac216328ca2",
   "metadata": {},
   "outputs": [
    {
     "name": "stdout",
     "output_type": "stream",
     "text": [
      "a 10\n"
     ]
    }
   ],
   "source": [
    "k, v= (\"a\",10)\n",
    "print(k,v)  # key와 value값 각각 따로 저장 "
   ]
  },
  {
   "cell_type": "code",
   "execution_count": 18,
   "id": "0d60e050-e972-4edc-941b-a1fff56590c2",
   "metadata": {},
   "outputs": [
    {
     "name": "stdout",
     "output_type": "stream",
     "text": [
      "a 10\n",
      "b 20\n",
      "c 30\n"
     ]
    }
   ],
   "source": [
    "for key,value in d.items():     # 원소가 자료구조일 때 원소 개수만큼 변수를 선언할 수 있다. \n",
    "    print(key,value)"
   ]
  },
  {
   "cell_type": "code",
   "execution_count": 19,
   "id": "e36b9995-96a4-4f21-917e-104e5416af5f",
   "metadata": {},
   "outputs": [
    {
     "name": "stdout",
     "output_type": "stream",
     "text": [
      "가,나,다,a,b,c,d,e,1,2,3,4,"
     ]
    }
   ],
   "source": [
    "# 문자열\n",
    "for char in \"가나다abcde1234\":\n",
    "    print(char, end=\",\")"
   ]
  },
  {
   "cell_type": "markdown",
   "id": "1f30cd6f",
   "metadata": {
    "slideshow": {
     "slide_type": "subslide"
    }
   },
   "source": [
    "## continue와 break를 이용한 반복문 제어\n",
    "\n",
    "-   **continue**\n",
    "    -   실행 블록에서 continue가 실행되면 현재 반복을 중단하고 다음 반복을 진행한다.\n",
    "    -   특정 조건에서 처리를 멈추고 다음 처리를 반복할 때 사용한다.\n",
    "-   **break**\n",
    "    -   반복문 실행을 중단한다.\n",
    "    -   특정 조건에서 반복문을 중간에 중지할때 사용한다.\n",
    "-   continue와 break는 특정 조건에서 실행되야 하는 경우가 대부분이므로 if문 안에 작성한다.\n"
   ]
  },
  {
   "cell_type": "code",
   "execution_count": 20,
   "id": "90c41e9f",
   "metadata": {
    "slideshow": {
     "slide_type": "fragment"
    }
   },
   "outputs": [
    {
     "name": "stdout",
     "output_type": "stream",
     "text": [
      "2\n",
      "4\n",
      "6\n",
      "8\n",
      "10\n"
     ]
    }
   ],
   "source": [
    "l = [1,2,3,4,5,6,7,8,9,10]\n",
    "# 짝수만 출력 \n",
    "for v in l:\n",
    "    if v % 2 != 0: # 2의 배수가 아니라면 , continue 밑으로 내려가지않는다. 다시 for 구문으로 되돌아감.\n",
    "        continue\n",
    "    print(v)"
   ]
  },
  {
   "cell_type": "code",
   "execution_count": 21,
   "id": "7a399b85-a5f6-44b8-b5aa-c1884953e7e2",
   "metadata": {},
   "outputs": [
    {
     "name": "stdout",
     "output_type": "stream",
     "text": [
      "1\n",
      "2\n",
      "3\n",
      "4\n",
      "5\n",
      "6\n",
      "종료\n"
     ]
    }
   ],
   "source": [
    "# 만약에 7이면 반복을 종료 \n",
    "for v in l:\n",
    "    if v == 7:\n",
    "        # continue 7만 빼고 출력\n",
    "        break \n",
    "    print(v)\n",
    "print(\"종료\")"
   ]
  },
  {
   "cell_type": "code",
   "execution_count": 22,
   "id": "9a01332f-0642-4328-9b60-c7419e6d88ab",
   "metadata": {},
   "outputs": [
    {
     "data": {
      "text/plain": [
       "16"
      ]
     },
     "execution_count": 22,
     "metadata": {},
     "output_type": "execute_result"
    }
   ],
   "source": [
    "import random \n",
    "random.randint(10,20)   # rand+int = rand는 random이라는 뜻이고, int는 정수형으로 하겠다. , 시작(10) ~ 끝(20) 범위 안에 있는 임의의 정수(난수-random값)를 반환."
   ]
  },
  {
   "cell_type": "code",
   "execution_count": 23,
   "id": "20b246ff-6ce7-4b2a-a121-3f847af25ccc",
   "metadata": {},
   "outputs": [
    {
     "data": {
      "text/plain": [
       "76"
      ]
     },
     "execution_count": 23,
     "metadata": {},
     "output_type": "execute_result"
    }
   ],
   "source": [
    "random.randint(-100,100)"
   ]
  },
  {
   "cell_type": "code",
   "execution_count": 24,
   "id": "27efeb0b-c920-4155-b3a3-3a597c1f2fb1",
   "metadata": {},
   "outputs": [
    {
     "name": "stdout",
     "output_type": "stream",
     "text": [
      "pos_result 값 : [87, 79, 89, 53, 19, 56, 23, 37, 53, 48, 69, 98, 32, 31, 10, 35, 36, 57, 9, 96, 64, 51, 95, 48, 73, 54, 96, 99, 59, 51, 96, 2, 23, 31, 100, 43, 30, 15, 12, 45, 58, 34, 93, 42, 75, 34, 58, 33, 86, 18, 12, 60, 75, 94, 74, 17, 85, 83, 1, 97, 8, 75, 78, 30, 58, 44, 22, 7, 32, 16, 81, 20, 56, 37, 48, 26, 7, 18, 16, 1, 91]\n",
      "neg_result 값 : [-1, -28, -28, -91, -30, -20, -17, -36, -38, -100, -15, -88, -76, -83, -69, -39, -69, -41, -84, -75, -46, -25, -18, -9, -47, -40, -14, -99, -89, -70, -95, -68, -77, -33, -60, -40, -88, -98, -80, -69, -76, -14, -80, -96, -97, -34, -33, -90, -75, -30, -99, -99, -78, -79, -1, -54, -94, -2, -6, -52, -9, -81, -50, -88, -56, -1, -65, -49, -68, -27, -89, -25, -73, -47, -88, -55, -3, -50, -70, -12, -39, -23, -85, -47, -24, -12]\n",
      "종료\n"
     ]
    }
   ],
   "source": [
    "# -100 ~ 100 범위에 정수 난수를 생성 \n",
    "# 생성된 정수 중 양수는 'pos_result' 리스트에 음수는 'neg_result' 리스트에 저장\n",
    "# 0이 생성되면 종료 \n",
    "\n",
    "import random \n",
    "pos_result = []\n",
    "neg_result = []\n",
    "num = random.randint(-100,100)\n",
    "\n",
    "while num !=0:\n",
    "    if num > 0:\n",
    "        pos_result.append(num)\n",
    "    elif num < 0:\n",
    "        neg_result.append(num)\n",
    "        \n",
    "    num = random.randint(-100,100)   # 이걸 하지않으면, 처음 생성한 num 가지고서 무한반복 돌려지므로, 마지막에 다시 난수 생성 이후 while 구문으로 되돌아가게끔 \n",
    "print(f\"pos_result 값 : {pos_result}\")\n",
    "print(f\"neg_result 값 : {neg_result}\")\n",
    "print(\"종료\")  "
   ]
  },
  {
   "cell_type": "code",
   "execution_count": 25,
   "id": "4f8824c4-b8be-4d1a-a1f1-ec3899d0dbdc",
   "metadata": {},
   "outputs": [
    {
     "name": "stdout",
     "output_type": "stream",
     "text": [
      "pos_result 값 : [96, 13, 57, 43, 53, 55, 3, 96, 89, 75, 77, 82, 38, 70, 45, 68, 43, 82, 67, 24, 76, 91, 90, 85, 70, 47, 96, 83, 88, 39, 81, 82, 51, 24, 80, 70, 68, 35, 80, 71, 2, 16, 55, 65, 93, 62, 23, 91, 91, 70, 82, 92, 12, 22, 2, 58, 94, 17, 12, 84, 41, 49, 15, 31, 70, 30, 52, 28, 94, 90, 7, 64, 47, 37, 32, 28, 58, 92, 43, 74, 18, 69, 73, 57, 19, 71, 43, 21, 52, 87, 5, 80, 78, 26, 90, 44, 25, 18, 48, 33, 35, 69, 5, 66, 100, 80, 45, 92, 56, 71, 40, 24, 57, 48, 70, 61, 81, 54, 4, 91, 99, 52, 64, 21, 14, 14, 49, 40, 19, 58, 39, 68, 12, 63, 95, 49, 99]\n",
      "neg_result 값 : [-31, -99, -65, -89, -12, -49, -34, -34, -75, -91, -49, -60, -50, -75, -63, -32, -79, -42, -41, -2, -36, -17, -36, -47, -94, -80, -11, -22, -42, -42, -58, -3, -19, -33, -4, -78, -74, -79, -63, -68, -77, -47, -20, -88, -11, -68, -52, -15, -76, -23, -72, -1, -59, -21, -37, -1, -72, -38, -34, -2, -21, -81, -89, -92, -68, -74, -37, -58, -91, -6, -67, -66, -43, -91, -34, -44, -69, -39, -54, -73, -6, -63, -66, -83, -18, -43, -85, -3, -98, -75, -92, -25, -47, -75, -91, -37, -31, -15, -12, -81, -81, -78, -11, -60, -33, -74, -1, -3, -36, -30, -88, -63, -3, -37, -9, -60, -82, -31, -58, -26, -78, -82, -10, -57, -61, -16, -6, -8, -32, -74, -79, -88, -15, -62, -72, -87, -58, -14, -79, -26]\n",
      "종료\n"
     ]
    }
   ],
   "source": [
    "pos_result = []\n",
    "neg_result = []\n",
    "import random\n",
    "while True:    # 계속해서 while 반복을 시키겠다. 계속 True \n",
    "    num = random.randint(-100,100)\n",
    "    if num > 0:\n",
    "        pos_result.append(num)\n",
    "    elif num < 0:\n",
    "        neg_result.append(num)\n",
    "    else:    # ==0\n",
    "        break\n",
    "\n",
    "print(f\"pos_result 값 : {pos_result}\")\n",
    "print(f\"neg_result 값 : {neg_result}\")\n",
    "print(\"종료\")  "
   ]
  },
  {
   "cell_type": "code",
   "execution_count": 26,
   "id": "0fbda06e-d906-4190-9085-d2d17811c90b",
   "metadata": {
    "scrolled": true
   },
   "outputs": [
    {
     "name": "stdout",
     "output_type": "stream",
     "text": [
      "종료\n",
      "pos_result : [29, 86, 99, 74, 46, 48, 69, 44, 85, 98, 27, 71, 74, 78, 75, 65, 55, 90, 62, 19, 59, 31, 93, 4, 29, 94, 25, 75, 84, 14, 48, 48, 99, 50, 43, 36, 23, 81, 54, 8, 46, 83, 29, 92, 15, 18, 13, 48, 60, 1, 21, 10, 61, 78, 45, 63, 22, 1, 94, 98, 91, 6, 13, 99, 57, 95, 51, 30, 65, 81, 13, 35, 92, 9, 6, 76, 35, 95, 74, 85, 48, 85, 15, 4, 58, 67, 65, 93, 10, 69, 30, 100, 31, 86, 32, 73, 71, 41, 47, 74, 53, 37, 21, 43, 100, 10, 13, 18, 69, 29, 61, 67, 39, 74, 34, 31, 83, 3, 91, 24, 88, 38, 100, 88, 97, 90, 77, 35, 80, 34, 7, 42, 48, 87, 77, 27, 58, 88, 60, 37, 56, 29, 61, 58, 56, 88, 69, 90, 88, 96, 4, 83, 47, 42, 96, 70, 25, 33, 81, 32, 14, 82, 22, 16, 91, 40, 7, 85, 14, 81, 70, 58, 36, 2, 80, 11, 41, 50, 87, 18, 10, 98, 61, 39, 61, 3, 64, 63, 34, 80, 98, 74, 23, 77, 90, 88, 54, 30, 19, 86, 37, 73, 33, 73, 60, 98, 18, 83, 12, 42, 4, 44, 54, 66, 70, 35, 89, 16, 60, 95, 62, 93, 88, 27, 79, 83, 24, 67, 36, 53, 92, 15, 28, 72, 66, 7, 64, 16, 12, 79, 63, 79, 36, 77, 74, 3, 62, 98, 72, 29, 2, 5, 55, 90, 57, 81, 74, 78, 27, 65, 76, 49, 74, 43, 86, 12, 12, 1, 25, 8, 97, 13, 27, 33, 77, 20, 83, 6, 26, 92, 68, 3, 17, 82, 69, 90, 95, 93, 48, 21, 5, 62, 58, 56, 47, 77, 95, 21, 37, 24, 10, 90, 40, 92, 12, 59, 40, 32, 44, 65, 57, 29, 21, 14, 81, 73, 60, 16, 37, 81, 43, 51, 76, 60, 48, 16, 59, 47, 88, 82, 68, 22, 51, 9, 57, 34, 56, 10, 26, 8, 23, 51, 16, 50, 67, 84, 45, 46, 64, 9, 31, 61, 15, 38, 5, 81, 94, 9, 30, 73, 48, 35, 42, 63, 41, 36, 38, 78, 88, 27, 100, 27, 73, 22, 78, 8, 18, 52, 85, 28, 70, 39, 55, 9, 89, 41, 37, 99, 34, 67, 99, 30, 61, 24, 23, 25, 49, 56, 8, 84, 33, 67, 49, 22, 29, 15, 87, 51, 35, 75, 86, 11, 39, 11, 100, 30, 79, 93, 97, 22, 25, 79, 48, 17, 23, 56, 67, 76, 53, 88, 41, 75, 25, 92, 94, 75, 88, 68, 18, 7, 90, 14, 51, 20, 21, 89, 23, 52, 23, 96, 37, 13, 26, 26, 45, 17, 96, 48, 43, 64, 45, 58, 11, 56, 100, 72, 21]\n"
     ]
    }
   ],
   "source": [
    "pos_result = []\n",
    "neg_result = []\n",
    "# := (왈러스 연산자 - 대입연산자)  - if/while 조건절에서만 사용가능. \n",
    "# 값을 변수에 대입하고 반환. 1. 값을 변수에 대입, 2. 대입한 값을 다시 반환.  \n",
    "while num := random.randint(-100,100):    # 자동적으로 0나오면 종료 \n",
    "# while num := random.randing(-100,100) != 0: \n",
    "    if num > 0:  \n",
    "        pos_result.append(num)\n",
    "    else:\n",
    "        neg_result.append(num)\n",
    "print(\"종료\")\n",
    "print(f\"pos_result : {pos_result}\")"
   ]
  },
  {
   "cell_type": "code",
   "execution_count": 27,
   "id": "6cab5126-8914-46b9-9231-25127e2d00b7",
   "metadata": {},
   "outputs": [
    {
     "name": "stdout",
     "output_type": "stream",
     "text": [
      "20\n"
     ]
    }
   ],
   "source": [
    "(a := 20) > 0  # 1.a에 20을 넣고 2.a와 0을 비교 \n",
    "print(a)"
   ]
  },
  {
   "cell_type": "markdown",
   "id": "dc6099c5",
   "metadata": {
    "slideshow": {
     "slide_type": "slide"
    }
   },
   "source": [
    "## for in 문 연관 내장 함수\n",
    "\n",
    "### range()\n",
    "\n",
    "-   일정한 간격의 연속된 정수를 제공하는 반복가능 객체 생성한다.\n",
    "-   구문\n",
    "    -   `range([시작값], 멈춤값, [증감값])`\n",
    "        -   시작값, 멈춤값, 증감값 모두 정수만 가능하다.\n",
    "        -   시작값 > 멈춤값 이고 증감값이 음수이면 내림차순으로 값을 제공한다.\n",
    "        1. 전달값이 **1개: 멈춤값**.\n",
    "            - 0 ~ (멈춤값-1)까지 1씩 증가하는 정수를 제공\n",
    "        2. 전달값이 **2개: 시작값, 멈춤값**.\n",
    "            - 시작값 ~ (멈춤값-1) 까지 1씩 증가하는 정수 제공\n",
    "        3. 전달값이 **3개: 시작값, 멈춤값, 증감값(간격)**.\n",
    "            - 시작값 ~ (멈춤값-1)까지 증감값만큼 증가하는 정수를 제공.\n"
   ]
  },
  {
   "cell_type": "code",
   "execution_count": 28,
   "id": "352d937b",
   "metadata": {
    "slideshow": {
     "slide_type": "fragment"
    }
   },
   "outputs": [
    {
     "name": "stdout",
     "output_type": "stream",
     "text": [
      "10\t11\t12\t13\t14\t15\t16\t17\t18\t19\t"
     ]
    }
   ],
   "source": [
    "for v in range(10,20):\n",
    "    print(v, end=\"\\t\")"
   ]
  },
  {
   "cell_type": "code",
   "execution_count": 29,
   "id": "0772c88f-57f6-4f79-81b2-054b6b1b3486",
   "metadata": {},
   "outputs": [
    {
     "name": "stdout",
     "output_type": "stream",
     "text": [
      "10\t13\t16\t19\t22\t25\t28\t"
     ]
    }
   ],
   "source": [
    "for v in range(10,30,3 ):   # (시작값, 끝)\n",
    "    print(v, end=\"\\t\")"
   ]
  },
  {
   "cell_type": "code",
   "execution_count": 30,
   "id": "07de52ca-db7d-4e28-8db2-1bab9297d261",
   "metadata": {},
   "outputs": [
    {
     "name": "stdout",
     "output_type": "stream",
     "text": [
      "0\t1\t2\t3\t4\t5\t6\t7\t8\t9\t10\t11\t12\t13\t14\t15\t16\t17\t18\t19\t"
     ]
    }
   ],
   "source": [
    "for v in range(20):   # 종료값, 시작:0, 간격:1\n",
    "    print(v,end=\"\\t\")"
   ]
  },
  {
   "cell_type": "code",
   "execution_count": 31,
   "id": "be2aaee9-4150-49ba-b567-e894778eb314",
   "metadata": {},
   "outputs": [
    {
     "data": {
      "text/plain": [
       "(5, 6, 7, 8, 9, 10, 11, 12, 13, 14)"
      ]
     },
     "execution_count": 31,
     "metadata": {},
     "output_type": "execute_result"
    }
   ],
   "source": [
    "l = list(range(1,11))\n",
    "l = set(range(-10,10))\n",
    "l = tuple(range(5,15))\n",
    "l"
   ]
  },
  {
   "cell_type": "code",
   "execution_count": 32,
   "id": "5e5cc78d-b470-4be2-a9a1-a056149d85ec",
   "metadata": {},
   "outputs": [
    {
     "data": {
      "text/plain": [
       "[10, 8, 6, 4, 2, 0, -2, -4, -6, -8]"
      ]
     },
     "execution_count": 32,
     "metadata": {},
     "output_type": "execute_result"
    }
   ],
   "source": [
    "# reverse(역순)\n",
    "list(range(10,-10,-2))"
   ]
  },
  {
   "cell_type": "code",
   "execution_count": 33,
   "id": "777a715e-5058-426f-b1dd-bd184ab7af4b",
   "metadata": {},
   "outputs": [],
   "source": [
    "# 안녕을 10번 출력 \n",
    "c = 0 \n",
    "while c < 10:\n",
    "    # 작업\n",
    "    c += 1 "
   ]
  },
  {
   "cell_type": "code",
   "execution_count": 34,
   "id": "b3c25982-e04d-44ee-95e4-352ba25be3e7",
   "metadata": {},
   "outputs": [
    {
     "name": "stdout",
     "output_type": "stream",
     "text": [
      "안녕\n",
      "안녕\n",
      "안녕\n",
      "안녕\n",
      "안녕\n",
      "안녕\n",
      "안녕\n",
      "안녕\n",
      "안녕\n",
      "안녕\n"
     ]
    }
   ],
   "source": [
    "for _ in range(10):   # 변수명 '_'사용하는 경우: 사용하지 않을 변수인데 문법때문에 넣어야 할 경우.\n",
    "    print(\"안녕\")"
   ]
  },
  {
   "cell_type": "code",
   "execution_count": 25,
   "id": "169f0421-3f19-48a2-9c98-7c0a4328e444",
   "metadata": {},
   "outputs": [
    {
     "name": "stdout",
     "output_type": "stream",
     "text": [
      "100\t20\n"
     ]
    }
   ],
   "source": [
    "# def print(출력할 값, end='\\n'):, 기본적인 print() 내장 함수 의미 \n",
    "print(100,end=\"\\t\")\n",
    "print(20)"
   ]
  },
  {
   "cell_type": "markdown",
   "id": "5de9d74e",
   "metadata": {
    "slideshow": {
     "slide_type": "subslide"
    }
   },
   "source": [
    "## enumerate()\n",
    "\n",
    "-   구문\n",
    "    -   `enumerate(Iterable,  [, start=정수])`\n",
    "        -   현재 몇번째 값을 제공하는 지(현재 몇번째 반복인지)를 나타내는 **index**와 제공하는 **원소**를 tuple로 묶어서 반환\n",
    "        -   Iterable\n",
    "            -   값을 제공할 Iterable객체\n",
    "        -   start: 정수\n",
    "            -   index 시작 값. 생략하면 0부터 시작한다.\n"
   ]
  },
  {
   "cell_type": "code",
   "execution_count": 35,
   "id": "33dd96c5",
   "metadata": {
    "slideshow": {
     "slide_type": "fragment"
    }
   },
   "outputs": [
    {
     "name": "stdout",
     "output_type": "stream",
     "text": [
      "0\n",
      "1\n",
      "2\n",
      "3\n",
      "4\n",
      "5\n",
      "6\n",
      "7\n",
      "8\n",
      "9\n"
     ]
    }
   ],
   "source": [
    "l = list(range(10))\n",
    "for v in l:\n",
    "    print(v)"
   ]
  },
  {
   "cell_type": "code",
   "execution_count": 36,
   "id": "9fcebbd7-78a0-4b5c-97fe-3c6944b2b4ad",
   "metadata": {},
   "outputs": [
    {
     "name": "stdout",
     "output_type": "stream",
     "text": [
      "0 10\n",
      "1 11\n",
      "2 12\n",
      "3 13\n",
      "4 14\n",
      "5 15\n",
      "6 16\n",
      "7 17\n",
      "8 18\n",
      "9 19\n"
     ]
    }
   ],
   "source": [
    "l = list(range(10,20))\n",
    "#for v in enumerate(l):     # (index: 몇번째 반복인지,값)\n",
    "for idx, value in enumerate(l):\n",
    "    print(idx,value)"
   ]
  },
  {
   "cell_type": "code",
   "execution_count": 37,
   "id": "92507701-a780-4f7d-99d0-67b48340ec7a",
   "metadata": {},
   "outputs": [
    {
     "name": "stdout",
     "output_type": "stream",
     "text": [
      "1000 - 중간결과\n",
      "2000 - 중간결과\n",
      "3000 - 중간결과\n",
      "4000 - 중간결과\n",
      "5000 - 중간결과\n",
      "6000 - 중간결과\n",
      "7000 - 중간결과\n",
      "8000 - 중간결과\n",
      "9000 - 중간결과\n",
      "10000 - 중간결과\n"
     ]
    }
   ],
   "source": [
    "# 10_000 번 반복 처리 -> 중간결과를 1_000에 한번씩 출력\n",
    "for idx, value in enumerate(range(10_000), start = 1 ):  # 몇 번째 반복중인지 알기위해서 range를 enumerate로 감싸준다. / start =1 , enumerate할때 0으로 시작하기떄문\n",
    "    # 작업 \n",
    "    # 중간 결과를 출력 \n",
    "    if idx % 1000 == 0:\n",
    "        print(f\"{idx} - 중간결과\")"
   ]
  },
  {
   "cell_type": "markdown",
   "id": "f5a5540f",
   "metadata": {
    "slideshow": {
     "slide_type": "subslide"
    }
   },
   "source": [
    "## zip()\n",
    "\n",
    "-   여러 개의 Iterable 객체를 받아 반복시 같은 index의 값끼리 튜플로 묶어 반환한다.\n",
    "-   구문\n",
    "    -   `zip(Iterable1, Iterable2, Iterable3 [, .......])`\n",
    "        -   Iterable 2개이상.전달한다.\n",
    "-   각 Iterable이 제공하는 원소의 개수가가 다를 경우 가장 적은 것의 개수에 맞춰 반복한다.\n"
   ]
  },
  {
   "cell_type": "code",
   "execution_count": 38,
   "id": "1b99057f",
   "metadata": {
    "slideshow": {
     "slide_type": "fragment"
    }
   },
   "outputs": [
    {
     "name": "stdout",
     "output_type": "stream",
     "text": [
      "('이순신', 30, '서울')\n",
      "('유관순', 40, '인천')\n",
      "('강감찬', 50, '부산')\n"
     ]
    }
   ],
   "source": [
    "name_list = ['이순신','유관순','강감찬']\n",
    "age_list = [30,40,50]\n",
    "address_list = ['서울','인천','부산']\n",
    "# 같은 index가 같은 사람의 데이터.\n",
    "# 개별 사람의 데이터를 출력 (이순신, 30, 서울)\n",
    "# 갯수가 다르더라도, 에러가 나지는 않고 가장 적은 index를 가진 것에 맞춰서 출력한다. \n",
    "for v in zip(name_list, age_list,address_list):\n",
    "    print(v)"
   ]
  },
  {
   "cell_type": "code",
   "execution_count": 39,
   "id": "68cc9b92-3c3b-4d9f-b563-4e8cff8226eb",
   "metadata": {},
   "outputs": [
    {
     "name": "stdout",
     "output_type": "stream",
     "text": [
      "이순신 30 서울\n",
      "유관순 40 인천\n",
      "강감찬 50 부산\n"
     ]
    }
   ],
   "source": [
    "for name,age,address in zip(name_list, age_list,address_list):\n",
    "    print(name,age,address)   # tuple 데이터로 확인"
   ]
  },
  {
   "cell_type": "markdown",
   "id": "2df89dae",
   "metadata": {
    "slideshow": {
     "slide_type": "subslide"
    }
   },
   "source": [
    "# 컴프리헨션(Comprehension)\n",
    "\n",
    "-   기존 Iterable의 원소들을 이용해서 새로운 자료구조(List, Dictionary, Set)를 생성하는 구문.\n",
    "    -   기존 Iterable의 **원소들을 처리한 결과**나 **특정 조건이 True인 값들을** 새로운 자료구조에 넣을때 사용.\n",
    "    -   결과를 넣을 새로운 자료구조 타입에 따라 다음 세가지가 있다.\n",
    "        -   리스트 컴프리헨션\n",
    "        -   딕셔너리 컴프리헨션\n",
    "        -   셋 컴프리헨션\n",
    "- **튜플 컴프리헨션**은 tuple() 함수를 이용해서 만든다.\n",
    "-   **딕셔너리 컴프리헨션**과 **셋 컴프리헨션**은 파이썬 3 에 새로 추가되었다.\n",
    "-   컴프리헨션 문법은 iterable 을 타입을 넣는 곳에서는 다 적용할 수있다.\n"
   ]
  },
  {
   "cell_type": "code",
   "execution_count": 28,
   "id": "e04827d9",
   "metadata": {
    "slideshow": {
     "slide_type": "fragment"
    }
   },
   "outputs": [
    {
     "data": {
      "text/plain": [
       "[2, 4, 6]"
      ]
     },
     "execution_count": 28,
     "metadata": {},
     "output_type": "execute_result"
    }
   ],
   "source": [
    "# filtering\n",
    "l = [1,2,3,4,5,6]\n",
    "result = []\n",
    "for v in l:\n",
    "    if v % 2 ==0:\n",
    "        result.append(v)\n",
    "\n",
    "result"
   ]
  },
  {
   "cell_type": "code",
   "execution_count": 29,
   "id": "c1a0605f-510c-4f88-9cf0-2b24eb9ec0b1",
   "metadata": {},
   "outputs": [
    {
     "data": {
      "text/plain": [
       "[2, 4, 6, 8, 10, 12]"
      ]
     },
     "execution_count": 29,
     "metadata": {},
     "output_type": "execute_result"
    }
   ],
   "source": [
    "# mapping   , filtering 값과 처리방식을 연결했다해서 mapping\n",
    "result2 = []\n",
    "for v in l:\n",
    "    result2.append(v * 2 )\n",
    "result2"
   ]
  },
  {
   "cell_type": "code",
   "execution_count": 30,
   "id": "63957d0e-bb8d-4f03-abd3-e3d490f50342",
   "metadata": {},
   "outputs": [
    {
     "name": "stdout",
     "output_type": "stream",
     "text": [
      "[2, 4, 6, 8, 10, 12]\n"
     ]
    }
   ],
   "source": [
    "# mapping을 컴프리헨션 문법으로 구현   --> v*2 for v in l : comprehession 문법\n",
    "result3 = [v*2 for v in l]   # l 리스트 안에 있는 원소들을 for 구문을 이용해서 처음 v로 받은다음 바깥으로 v를 빼주어서 result3 list에 담는다.\n",
    "print(result3)"
   ]
  },
  {
   "cell_type": "code",
   "execution_count": 31,
   "id": "4174cb31-bc08-494d-9c25-dceaf1ce07cd",
   "metadata": {},
   "outputs": [
    {
     "data": {
      "text/plain": [
       "{'value1': 2,\n",
       " 'value2': 4,\n",
       " 'value3': 6,\n",
       " 'value4': 8,\n",
       " 'value5': 10,\n",
       " 'value6': 12}"
      ]
     },
     "execution_count": 31,
     "metadata": {},
     "output_type": "execute_result"
    }
   ],
   "source": [
    "{f\"value{v}\":v*2 for v in l}   # dictionary comprehession , for in 구문과 if 구문을 연속으로 사용가능한 것이 컴프리핸션 문법이라고 한다. "
   ]
  },
  {
   "cell_type": "code",
   "execution_count": 44,
   "id": "3141a9c7-4152-4403-89d7-e10218bd16f4",
   "metadata": {},
   "outputs": [
    {
     "data": {
      "text/plain": [
       "<generator object <genexpr> at 0x000001BA5E20B1D0>"
      ]
     },
     "execution_count": 44,
     "metadata": {},
     "output_type": "execute_result"
    }
   ],
   "source": [
    "(v*2 for v in l) # generator 생성 "
   ]
  },
  {
   "cell_type": "code",
   "execution_count": 45,
   "id": "837d0ec6-2a1a-4ff7-8492-cf94db9597ad",
   "metadata": {},
   "outputs": [
    {
     "data": {
      "text/plain": [
       "(2, 4, 6, 8, 10, 12)"
      ]
     },
     "execution_count": 45,
     "metadata": {},
     "output_type": "execute_result"
    }
   ],
   "source": [
    "tuple(v*2 for v in l)   # tuple comprehession"
   ]
  },
  {
   "cell_type": "code",
   "execution_count": 46,
   "id": "a4818fb1-7dac-4e98-82ea-67bd4980f19c",
   "metadata": {},
   "outputs": [
    {
     "data": {
      "text/plain": [
       "[2, 4, 6]"
      ]
     },
     "execution_count": 46,
     "metadata": {},
     "output_type": "execute_result"
    }
   ],
   "source": [
    "# filtering을 컴프리핸션 문법으로 구현\n",
    "result4 = [v for v in l if v % 2 ==0]\n",
    "result4"
   ]
  },
  {
   "cell_type": "code",
   "execution_count": 47,
   "id": "37539a10-22fe-479d-910b-b33049bb0414",
   "metadata": {},
   "outputs": [
    {
     "data": {
      "text/plain": [
       "[20, 40, 60]"
      ]
     },
     "execution_count": 47,
     "metadata": {},
     "output_type": "execute_result"
    }
   ],
   "source": [
    "result5 = [v*10 for v in l if v % 2 ==0]   # l에서 짝수 중, 10 곱한 값만 필터링하고 싶다. \n",
    "result5"
   ]
  },
  {
   "cell_type": "code",
   "execution_count": 48,
   "id": "deb41898-8c64-4f8f-93fe-810a5a2dd73e",
   "metadata": {},
   "outputs": [
    {
     "data": {
      "text/plain": [
       "[5, 7, 3]"
      ]
     },
     "execution_count": 48,
     "metadata": {},
     "output_type": "execute_result"
    }
   ],
   "source": [
    "l2 = [\n",
    "    [10,5,7],\n",
    "    [3,50,4]\n",
    "]\n",
    "result = [] # l2 원소중 홀수만 저장.\n",
    "for l in l2:\n",
    "    for v in l:\n",
    "        if v % 2 !=0:\n",
    "            result.append(v)\n",
    "result"
   ]
  },
  {
   "cell_type": "code",
   "execution_count": 49,
   "id": "2d66be48-db22-40f5-bba3-8e94da237320",
   "metadata": {},
   "outputs": [],
   "source": [
    "result2 = [v for l in l2 for v in l if v % 2 !=0 ]  # 먼저 나오는 for 구문이 리스트 안에 리스트를 filter 하는 것이고, 뒤에 나오는 for 구문이 list안에서 원소 뽑아서 v에 저장\n",
    "                                                    # 그리고 뽑은 v 중 홀수이면 조건에 True로 부합해서 완전히 뽑아 v로 뽑겠다.  "
   ]
  },
  {
   "cell_type": "markdown",
   "id": "092288d7",
   "metadata": {
    "slideshow": {
     "slide_type": "skip"
    }
   },
   "source": [
    "# TODO\n"
   ]
  },
  {
   "cell_type": "code",
   "execution_count": 50,
   "id": "daf79656-6e34-434d-af20-69d5cc2ab3d1",
   "metadata": {
    "slideshow": {
     "slide_type": "skip"
    }
   },
   "outputs": [
    {
     "name": "stdin",
     "output_type": "stream",
     "text": [
      "ID를 입력하세요: 서울\n"
     ]
    },
    {
     "name": "stdout",
     "output_type": "stream",
     "text": [
      "사용할 수 없는 ID입니다.\n"
     ]
    }
   ],
   "source": [
    "# (1) 사용자로 부터 ID를 입력 받은 뒤 입력받은 ID가 5글자 이상이면 \"사용할 수 있습니다.\"를 5글자 미만이면 \"사용할 수 없는 ID입니다.\"를 출력하세요.\n",
    "ID = input(\"ID를 입력하세요:\")\n",
    "if len(ID) >= 5:\n",
    "    print(\"사용할 수 있습니다.\")\n",
    "else:\n",
    "    print(\"사용할 수 없는 ID입니다.\")"
   ]
  },
  {
   "cell_type": "code",
   "execution_count": 51,
   "id": "5241d78f-d078-4c18-a4d9-2b2e492d668a",
   "metadata": {
    "slideshow": {
     "slide_type": "skip"
    }
   },
   "outputs": [
    {
     "name": "stdin",
     "output_type": "stream",
     "text": [
      "도시명을 입력하세요: 제주도\n"
     ]
    },
    {
     "name": "stdout",
     "output_type": "stream",
     "text": [
      "해당 도시는 특별시나 광역시가 아닙니다.\n"
     ]
    }
   ],
   "source": [
    "# (2) 사용자로부터 우리나라 도시명을 입력 받은 뒤 입력받은 도시명이 서울이면 \"특별시\"를 인천,부산,광주,대구,대전,울산 이면 \"광역시\"를 나머지는 \"특별시나 광역시가 아닙니다.\"를 출력하세요.\n",
    "city = input(\"도시명을 입력하세요:\")\n",
    "if city == \"서울\":\n",
    "    print(\"해당 도시는 특별시입니다.\")\n",
    "elif city == [\"인천\",\"부산\",\"광주\",\"대구\",\"대전\",\"울산\"]:\n",
    "    print(\"해당 도시는 광역시입니다.\")\n",
    "else:\n",
    "    print(\"해당 도시는 특별시나 광역시가 아닙니다.\")"
   ]
  },
  {
   "cell_type": "code",
   "execution_count": 65,
   "id": "8564a956-32b4-4458-b8bd-13e8eac67237",
   "metadata": {
    "slideshow": {
     "slide_type": "skip"
    }
   },
   "outputs": [
    {
     "name": "stdout",
     "output_type": "stream",
     "text": [
      "총점: 890\n",
      "평균: 89.0\n"
     ]
    }
   ],
   "source": [
    "# (3-4)\n",
    "# (3) 아래 리스트의 평균을 구하시오.\n",
    "jumsu = [100, 90, 100, 80, 70, 100, 80, 90, 95, 85]\n",
    "sum = 0\n",
    "for v in jumsu:\n",
    "    sum += v     # sum = sum + v\n",
    "avg = sum / len(jumsu)\n",
    "\n",
    "print(\"총점:\" ,sum)\n",
    "print(\"평균:\", avg)"
   ]
  },
  {
   "cell_type": "code",
   "execution_count": 15,
   "id": "3e809721-7e94-4933-a11a-b7b13ceb7558",
   "metadata": {
    "slideshow": {
     "slide_type": "skip"
    }
   },
   "outputs": [
    {
     "name": "stdout",
     "output_type": "stream",
     "text": [
      "0-pass\n",
      "1-pass\n",
      "2-pass\n",
      "3-fail\n",
      "4-fail\n",
      "5-pass\n",
      "6-fail\n",
      "7-pass\n",
      "8-pass\n",
      "9-fail\n"
     ]
    }
   ],
   "source": [
    "# (4) 위 jumsu리스트에서 평균점수이상은 pass, 미만은 fail을 index번호와 함께 출력하시오. (ex: 0-pass, 1-pass, 2-fail)\n",
    "for idx,value in enumerate(jumsu):\n",
    "    if avg <= value:\n",
    "        print(f\"{idx}-pass\")\n",
    "    else:\n",
    "        print(f\"{idx}-fail\")"
   ]
  },
  {
   "cell_type": "code",
   "execution_count": 76,
   "id": "05804ee0-c5c5-437a-bf3c-4a2bdc502794",
   "metadata": {
    "slideshow": {
     "slide_type": "skip"
    }
   },
   "outputs": [
    {
     "name": "stdout",
     "output_type": "stream",
     "text": [
      "95\n"
     ]
    }
   ],
   "source": [
    "# (5) 아래 리스트 값들 중 최대값을 조회해 출력하시오.\n",
    "jumsu = [60, 90, 80, 80, 70, 55, 80, 90, 95, 85]\n",
    "max_number = jumsu[0]\n",
    "for i in jumsu:\n",
    "    if max_number < i:\n",
    "        max_number = i\n",
    "print(max_number)"
   ]
  },
  {
   "cell_type": "code",
   "execution_count": 75,
   "id": "0186836b-5ada-4213-b0a4-c0330999fb16",
   "metadata": {
    "slideshow": {
     "slide_type": "skip"
    }
   },
   "outputs": [
    {
     "name": "stdin",
     "output_type": "stream",
     "text": [
      "단을 입력하시오: 3\n"
     ]
    },
    {
     "name": "stdout",
     "output_type": "stream",
     "text": [
      "3 x 1 = 3\n",
      "3 x 2 = 6\n",
      "3 x 3 = 9\n",
      "3 x 4 = 12\n",
      "3 x 5 = 15\n",
      "3 x 6 = 18\n",
      "3 x 7 = 21\n",
      "3 x 8 = 24\n",
      "3 x 9 = 27\n"
     ]
    }
   ],
   "source": [
    "# (6) 사용자로부터 정수를 입력받아 그 정수 단의 구구단을 출력하시오.\n",
    "# ex)\n",
    "# 단을 입력하시오 : 2\n",
    "# 2 x 1 = 2\n",
    "# 2 x 2 = 4\n",
    "# ..\n",
    "# 2 x 9 = 18\n",
    "\n",
    "# 컴프리헨션\n",
    "num = int(input(\"단을 입력하시오:\"))\n",
    "for i in range(1,10):\n",
    "    print(f\"{num} x {i} = {num * i}\")"
   ]
  },
  {
   "cell_type": "code",
   "execution_count": 80,
   "id": "fac97684-6b58-49a8-95a6-43959b55b204",
   "metadata": {},
   "outputs": [
    {
     "name": "stdout",
     "output_type": "stream",
     "text": [
      "2 x 1 = 2\t3 x 1 = 3\t4 x 1 = 4\t5 x 1 = 5\t6 x 1 = 6\t7 x 1 = 7\t8 x 1 = 8\t9 x 1 = 9\t2 x 2 = 4\t3 x 2 = 6\t4 x 2 = 8\t5 x 2 = 10\t6 x 2 = 12\t7 x 2 = 14\t8 x 2 = 16\t9 x 2 = 18\t2 x 3 = 6\t3 x 3 = 9\t4 x 3 = 12\t5 x 3 = 15\t6 x 3 = 18\t7 x 3 = 21\t8 x 3 = 24\t9 x 3 = 27\t2 x 4 = 8\t3 x 4 = 12\t4 x 4 = 16\t5 x 4 = 20\t6 x 4 = 24\t7 x 4 = 28\t8 x 4 = 32\t9 x 4 = 36\t2 x 5 = 10\t3 x 5 = 15\t4 x 5 = 20\t5 x 5 = 25\t6 x 5 = 30\t7 x 5 = 35\t8 x 5 = 40\t9 x 5 = 45\t2 x 6 = 12\t3 x 6 = 18\t4 x 6 = 24\t5 x 6 = 30\t6 x 6 = 36\t7 x 6 = 42\t8 x 6 = 48\t9 x 6 = 54\t2 x 7 = 14\t3 x 7 = 21\t4 x 7 = 28\t5 x 7 = 35\t6 x 7 = 42\t7 x 7 = 49\t8 x 7 = 56\t9 x 7 = 63\t2 x 8 = 16\t3 x 8 = 24\t4 x 8 = 32\t5 x 8 = 40\t6 x 8 = 48\t7 x 8 = 56\t8 x 8 = 64\t9 x 8 = 72\t2 x 9 = 18\t3 x 9 = 27\t4 x 9 = 36\t5 x 9 = 45\t6 x 9 = 54\t7 x 9 = 63\t8 x 9 = 72\t9 x 9 = 81\t"
     ]
    }
   ],
   "source": [
    "# 구구단 표 \n",
    "for num in range(1,10):\n",
    "    for num2 in range(2,10):\n",
    "        print(f\"{num2} x {num} = {num * num2}\",end='\\t')"
   ]
  },
  {
   "cell_type": "code",
   "execution_count": 46,
   "id": "a68b0d6b-7c4d-4d1f-b002-754b3c25c830",
   "metadata": {
    "slideshow": {
     "slide_type": "skip"
    }
   },
   "outputs": [
    {
     "data": {
      "text/plain": [
       "[(10, 100),\n",
       " (30, 300),\n",
       " (70, 700),\n",
       " (5, 50),\n",
       " (5, 50),\n",
       " (120, 1200),\n",
       " (700, 7000),\n",
       " (1, 10),\n",
       " (35, 350),\n",
       " (35, 350)]"
      ]
     },
     "execution_count": 46,
     "metadata": {},
     "output_type": "execute_result"
    }
   ],
   "source": [
    "# (7) 다음 리스트의 원소들에 10배한 값을 (원래값, 10배값) 의 튜플 묶음으로 가지는 리스트를 만드시오 (리스트 컴프리헨션 이용)\n",
    "# Ex) [(10,100), (30,300), .., (35, 350)]\n",
    "lst = [10, 30, 70, 5, 5, 120, 700, 1, 35, 35]\n",
    "result2 = [(num,num*10) for num in lst]\n",
    "result2"
   ]
  },
  {
   "cell_type": "code",
   "execution_count": 58,
   "id": "69bd7bf9-43c8-44ce-b600-3e8d1b185170",
   "metadata": {},
   "outputs": [
    {
     "name": "stdout",
     "output_type": "stream",
     "text": [
      "------------------------------------------------------------------------------------------------------------------------------------------------------\n",
      "------------------------------------------------------------------------------------------------------------------------------------------------------\n"
     ]
    }
   ],
   "source": [
    "print(\"-\"*150)\n",
    "print(\"-\"*150)"
   ]
  },
  {
   "cell_type": "code",
   "execution_count": 52,
   "id": "39287969-8ff1-4085-b615-44e3bf2290ce",
   "metadata": {},
   "outputs": [
    {
     "ename": "TypeError",
     "evalue": "tuple expected at most 1 argument, got 2",
     "output_type": "error",
     "traceback": [
      "\u001b[31m---------------------------------------------------------------------------\u001b[39m",
      "\u001b[31mTypeError\u001b[39m                                 Traceback (most recent call last)",
      "\u001b[36mCell\u001b[39m\u001b[36m \u001b[39m\u001b[32mIn[52]\u001b[39m\u001b[32m, line 1\u001b[39m\n\u001b[32m----> \u001b[39m\u001b[32m1\u001b[39m [\u001b[38;5;28;43mtuple\u001b[39;49m\u001b[43m(\u001b[49m\u001b[43mnum\u001b[49m\u001b[43m,\u001b[49m\u001b[43mnum\u001b[49m\u001b[43m*\u001b[49m\u001b[32;43m10\u001b[39;49m\u001b[43m)\u001b[49m \u001b[38;5;28;01mfor\u001b[39;00m num \u001b[38;5;129;01min\u001b[39;00m lst]   \u001b[38;5;66;03m# ()와 tuple() 둘다는 튜플 형태를 만드는 것이긴하지만, ()는 직접 바로 튜플 형태를 만드는 형식이고, tuple()은 \u001b[39;00m\n\u001b[32m      2\u001b[39m                                      \u001b[38;5;66;03m# 튜플 형변환 함수로 리스트,문자열 등 다른 형태를 튜플로 바꿔주는 것이다. \u001b[39;00m\n",
      "\u001b[31mTypeError\u001b[39m: tuple expected at most 1 argument, got 2"
     ]
    }
   ],
   "source": [
    "[tuple(num,num*10) for num in lst]   # ()와 tuple() 둘다는 튜플 형태를 만드는 것이긴하지만, ()는 직접 바로 튜플 형태를 만드는 형식이고, tuple()은 \n",
    "                                     # 튜플 형변환 함수로 리스트,문자열 등 다른 형태를 튜플로 바꿔주는 것이다. "
   ]
  },
  {
   "cell_type": "code",
   "execution_count": 48,
   "id": "c897a18e-52e6-453d-bfe9-047c75d4b82d",
   "metadata": {},
   "outputs": [
    {
     "data": {
      "text/plain": [
       "[(10, 100),\n",
       " (30, 300),\n",
       " (70, 700),\n",
       " (5, 50),\n",
       " (5, 50),\n",
       " (120, 1200),\n",
       " (700, 7000),\n",
       " (1, 10),\n",
       " (35, 350),\n",
       " (35, 350)]"
      ]
     },
     "execution_count": 48,
     "metadata": {},
     "output_type": "execute_result"
    }
   ],
   "source": [
    "[tuple([num,num*10]) for num in lst] "
   ]
  },
  {
   "cell_type": "code",
   "execution_count": 59,
   "id": "bada8bf5-234c-4ed8-9b50-aafc9ac27eb1",
   "metadata": {},
   "outputs": [
    {
     "name": "stdout",
     "output_type": "stream",
     "text": [
      "------------------------------------------------------------------------------------------------------------------------------------------------------\n",
      "------------------------------------------------------------------------------------------------------------------------------------------------------\n"
     ]
    }
   ],
   "source": [
    "print(\"-\"*150)\n",
    "print(\"-\"*150)"
   ]
  },
  {
   "cell_type": "code",
   "execution_count": 49,
   "id": "a3c45aa1-9377-4a16-ae0e-50b014cefbfb",
   "metadata": {},
   "outputs": [
    {
     "name": "stdout",
     "output_type": "stream",
     "text": [
      "[3, 33, 21, 33, 60, 120]\n"
     ]
    }
   ],
   "source": [
    "## (8) 다음 리스트가 가진 값들 중 3의 배수만 가지는 리스트를 만드시오. (리스트 컴프리헨션 이용)\n",
    "lst2 = [3, 20, 33, 21, 33, 8, 11, 10, 7, 17, 60, 120, 2]\n",
    "result = []\n",
    "for num in lst2:\n",
    "    if num % 3 == 0:\n",
    "        result.append(num)\n",
    "        continue\n",
    "print(result)"
   ]
  },
  {
   "cell_type": "code",
   "execution_count": 37,
   "id": "ffc786a5-55bf-41fd-bec7-86536d2277bb",
   "metadata": {},
   "outputs": [
    {
     "name": "stdout",
     "output_type": "stream",
     "text": [
      "[3, 33, 21, 33, 60, 120]\n"
     ]
    }
   ],
   "source": [
    "# 리스트 컴프리헨션 이용 \n",
    "result = [num for num in lst2 if num % 3 ==0]\n",
    "print(result)"
   ]
  },
  {
   "cell_type": "code",
   "execution_count": 73,
   "id": "78586f42-ec0c-46ad-acb2-9e7c39b5e02c",
   "metadata": {
    "slideshow": {
     "slide_type": "skip"
    }
   },
   "outputs": [
    {
     "name": "stdout",
     "output_type": "stream",
     "text": [
      "['a.exe', 'function.exe', 'b.exe', 'run.exe']\n"
     ]
    }
   ],
   "source": [
    "# (9)) 다음 파일이름들을 담은 리스트에서 확장자가 exe인 파일만 골라서 새로운 리스트에 담으시오.(string의 endswith()함수 이용)\n",
    "file_names = [\n",
    "    \"test.txt\",\n",
    "    \"a.exe\",\n",
    "    \"jupyter.bat\",\n",
    "    \"function.exe\",\n",
    "    \"b.exe\",\n",
    "    \"cat.jpg\",\n",
    "    \"dog.png\",\n",
    "    \"run.exe\",\n",
    "    \"i.dll\",\n",
    "]\n",
    "lst = []\n",
    "for name in file_names:\n",
    "    if name.endswith(\"exe\"):\n",
    "        lst.append(name)\n",
    "print(lst)"
   ]
  },
  {
   "cell_type": "code",
   "execution_count": 74,
   "id": "5f8f70e4-e52f-491d-92b7-0e06c1c4bab4",
   "metadata": {
    "slideshow": {
     "slide_type": "skip"
    }
   },
   "outputs": [
    {
     "name": "stdout",
     "output_type": "stream",
     "text": [
      "['mystroy.txt', 'jupyter.bat', 'function.exe']\n"
     ]
    }
   ],
   "source": [
    "# (10) 다음 중 10글자 이상인 파일명(확장자포함)만 가지는 리스트를 만드시오.\n",
    "file_names = [\n",
    "    \"mystroy.txt\",\n",
    "    \"a.exe\",\n",
    "    \"jupyter.bat\",\n",
    "    \"function.exe\",\n",
    "    \"b.exe\",\n",
    "    \"cat.jpg\",\n",
    "    \"dog.png\",\n",
    "    \"run.exe\",\n",
    "    \"i.dll\",\n",
    "]\n",
    "lst = []\n",
    "for name in file_names:\n",
    "    if len(name) >= 10:\n",
    "        lst.append(name)\n",
    "print(lst)"
   ]
  }
 ],
 "metadata": {
  "kernelspec": {
   "display_name": "Python 3 (ipykernel)",
   "language": "python",
   "name": "python3"
  },
  "language_info": {
   "codemirror_mode": {
    "name": "ipython",
    "version": 3
   },
   "file_extension": ".py",
   "mimetype": "text/x-python",
   "name": "python",
   "nbconvert_exporter": "python",
   "pygments_lexer": "ipython3",
   "version": "3.12.9"
  },
  "toc": {
   "base_numbering": 1,
   "nav_menu": {},
   "number_sections": true,
   "sideBar": true,
   "skip_h1_title": false,
   "title_cell": "Table of Contents",
   "title_sidebar": "Contents",
   "toc_cell": false,
   "toc_position": {},
   "toc_section_display": true,
   "toc_window_display": false
  },
  "varInspector": {
   "cols": {
    "lenName": 16,
    "lenType": 16,
    "lenVar": 40
   },
   "kernels_config": {
    "python": {
     "delete_cmd_postfix": "",
     "delete_cmd_prefix": "del ",
     "library": "var_list.py",
     "varRefreshCmd": "print(var_dic_list())"
    },
    "r": {
     "delete_cmd_postfix": ") ",
     "delete_cmd_prefix": "rm(",
     "library": "var_list.r",
     "varRefreshCmd": "cat(var_dic_list()) "
    }
   },
   "types_to_exclude": [
    "module",
    "function",
    "builtin_function_or_method",
    "instance",
    "_Feature"
   ],
   "window_display": false
  }
 },
 "nbformat": 4,
 "nbformat_minor": 5
}
