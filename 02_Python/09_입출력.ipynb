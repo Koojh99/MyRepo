{
 "cells": [
  {
   "cell_type": "markdown",
   "metadata": {
    "slideshow": {
     "slide_type": "slide"
    }
   },
   "source": [
    "# Path (경로)\n",
    "\n",
    "- **경로(Path)**\n",
    "    - 프로그램에서 사용할 **자원의 위치를 path(경로)** 라고 한다.\n",
    "    - **파일 시스템**에서는 파일이나 디렉토리가 있는 위치의 경로를 말한다.\n",
    "    - 계층구조 : Tree 구조, 최상위 directory는 하나이다 : Root directory\n",
    "    "
   ]
  },
  {
   "cell_type": "markdown",
   "metadata": {},
   "source": [
    "누구, 어떤것을 읽을꺼야? -> 파일 경로 :\n",
    "디렉토리 / 파일명 "
   ]
  },
  {
   "cell_type": "markdown",
   "metadata": {
    "slideshow": {
     "slide_type": "slide"
    }
   },
   "source": [
    "- **절대경로**\n",
    "    - 자원의 전체 경로를 표현하는 방식\n",
    "    - 시작 경로부터 자원(파일, 디렉토리)이 있는 위치까지 표현한다.\n",
    "        - 시작 경로: Root Path\n",
    "            - windows: `c:`, `d:`\n",
    "            - Unix, Linux: `/`"
   ]
  },
  {
   "cell_type": "markdown",
   "metadata": {
    "slideshow": {
     "slide_type": "fragment"
    }
   },
   "source": [
    "- **상대경로**\n",
    "    - 현재 작업 경로(위치)에서 부터 자원이 있는 위치까지 표현한다.\n",
    "        - 시작 경로: 현재 작업경로\n",
    "    - 구문\n",
    "        - `.` : 현재 디렉토리\n",
    "        - `..`: 상위 디렉토리\n",
    "        - `/` : 경로 구분자,  상위경로/하위경로"
   ]
  },
  {
   "cell_type": "markdown",
   "metadata": {},
   "source": [
    "- ./..  : 현재위치(.)에서 이전폴더로 나가라(..)\n",
    "- ./C : 현재위치(.)에서 c위치를 찾아라(c)\n",
    "- ./B/C : 현재위치(.)에서 B폴더에서 C를 찾아라\n",
    "- ./는 생략가능"
   ]
  },
  {
   "cell_type": "markdown",
   "metadata": {
    "slideshow": {
     "slide_type": "fragment"
    }
   },
   "source": [
    "- 운영체제(O/S)별 경로구분자\n",
    "    - 윈도우즈: `\\` (역슬래쉬)\n",
    "    - 리눅스/유닉스: `/` (슬래쉬)"
   ]
  },
  {
   "cell_type": "code",
   "execution_count": 6,
   "metadata": {},
   "outputs": [
    {
     "data": {
      "text/plain": [
       "'C:\\\\Users\\\\Playdata\\\\Documents\\\\MyRepo\\\\02_Python'"
      ]
     },
     "execution_count": 6,
     "metadata": {},
     "output_type": "execute_result"
    }
   ],
   "source": [
    "# 현재 디렉토리(working directory) 확인 -> 프로그램을 실행시킨 디렉토리.\n",
    "import os\n",
    "os.getcwd()   # cwd : current working diectory"
   ]
  },
  {
   "cell_type": "code",
   "execution_count": 2,
   "metadata": {},
   "outputs": [],
   "source": [
    "# working directory 를 변경.\n",
    "os.chdir(\"./mypackage\")"
   ]
  },
  {
   "cell_type": "code",
   "execution_count": 3,
   "metadata": {},
   "outputs": [
    {
     "data": {
      "text/plain": [
       "'C:\\\\Users\\\\Playdata\\\\Documents\\\\MyRepo\\\\02_Python\\\\mypackage'"
      ]
     },
     "execution_count": 3,
     "metadata": {},
     "output_type": "execute_result"
    }
   ],
   "source": [
    "os.getcwd()"
   ]
  },
  {
   "cell_type": "markdown",
   "metadata": {},
   "source": [
    "### 절대 경로 및 상대 경로 구분해서 사용 \n",
    "- 현재 위치에서 비슷한 위치일땐, ./ or ../로 파일경로 지정이 편함 -> 상대경로 \n",
    "- 만약 상위 폴더로 이동해서 파일 경로 지정해야한다면 -> 절대경로 "
   ]
  },
  {
   "cell_type": "code",
   "execution_count": 7,
   "metadata": {},
   "outputs": [],
   "source": [
    "os.mkdir(\"new_dir\")   # dir 생성 = 파일경로/파일명 -> \"./\"가 생략되어있는 모습 , 상대경로 "
   ]
  },
  {
   "cell_type": "code",
   "execution_count": 8,
   "metadata": {},
   "outputs": [],
   "source": [
    "os.rmdir(\"new_dir\")"
   ]
  },
  {
   "cell_type": "markdown",
   "metadata": {
    "slideshow": {
     "slide_type": "slide"
    }
   },
   "source": [
    "# 입출력 (IO)\n",
    "\n",
    "## 입출력이란\n",
    "- 프로그램이 사용하려는 외부 자원을 연결하여 데이터를 입력 받거나 출력하는 작업을 IO라고 한다.\n",
    "- 외부 자원\n",
    "    - 파일, 원격지 컴퓨터(Network으로 연결된 컴퓨터의 자원), 데이터베이스 등.\n",
    "- **Stream**\n",
    "    - 입출력 시 **데이터의 흐름을 stream** 이라고 한다.\n",
    "- InputStream \n",
    "    - Program이 외부로 부터 데이터를 읽어 들이는 흐름.\n",
    "- OutputStream \n",
    "    - Program이 외부로 데이터를 써주는 흐름.\n",
    "\n",
    "\n",
    "![io](images/ch09_01.png)"
   ]
  },
  {
   "cell_type": "markdown",
   "metadata": {},
   "source": [
    "외부 -> (입력) P/g -> 외부 (출력)"
   ]
  },
  {
   "cell_type": "markdown",
   "metadata": {
    "slideshow": {
     "slide_type": "subslide"
    }
   },
   "source": [
    "## IO 코딩 순서\n",
    "![순서](images/ch09_02.png)"
   ]
  },
  {
   "cell_type": "markdown",
   "metadata": {
    "slideshow": {
     "slide_type": "subslide"
    }
   },
   "source": [
    "### 파일 열기(연결)\n",
    "- open() 함수 사용\n",
    "    - 연결된 파일과 입출력 메소드를 제공하는 객체(Stream)를 리턴\n",
    "- 구문\n",
    "    - `open(file, mode='r', encoding=None)`\n",
    "    - 함수 주요 매개변수\n",
    "        - file : 연결할 파일 경로\n",
    "        - mode : 열기 모드\n",
    "            - mode는 목적, 데이터종류를 조합한 문자열을 사용한다.\n",
    "        - encoding : 데이터를 특정 형식으로 변환\n",
    "            - 입출력 대상이 **텍스트 파일일 경우** 인코딩 방식 설정\n",
    "            - 생략하면  **os 기본 encoding방식을 따른다.**      \n",
    "                - Windows: cp949/euckr\n",
    "                - Linux, Unix: utf-8\n",
    "|mode타입|mode문자|설명|\n",
    "|:-|-|-|\n",
    "|목적|r|읽기 모드-목적의 기본 모드|\n",
    "||w|새로 쓰기 모드|\n",
    "||a|이어 쓰기 모드|\n",
    "||x|새로 쓰기모드-연결하려는 파일이 있으면 Exception발생|\n",
    "|데이터종류|b|binary 모드|\n",
    "||t|Text모드-text데이터 입출력시 사용|\n",
    "    "
   ]
  },
  {
   "cell_type": "markdown",
   "metadata": {},
   "source": [
    "※ mode\n",
    "- Text 모드 : 일반적인 문서 파일 (.txt, .csv, .json)\n",
    "- binary 모드 : 이미지, 오디오, 동영상, 실행 파일 (.jpg, .mp3, .mp4, .exe)"
   ]
  },
  {
   "cell_type": "markdown",
   "metadata": {
    "slideshow": {
     "slide_type": "subslide"
    }
   },
   "source": [
    "### 출력 메소드\n",
    "\n",
    "- write(출력할 Data)\n",
    "    - 연결된 파일에 `출력할 Data` 출력한다.\n",
    "- writelines(문자열을 가진 컬렉션)\n",
    "    - 리스트, 튜플, 집합이 원소로 가진 문자열들을 한번에 출력한다.\n",
    "    - text 출력일 경우에만 사용가능.\n",
    "    - 원소에 문자열 이외의 타입의 값이 있을 경우 TypeError 발생\n",
    "- \"r\"는 읽기전용모드이므로 출력 불가 "
   ]
  },
  {
   "cell_type": "code",
   "execution_count": null,
   "metadata": {
    "slideshow": {
     "slide_type": "fragment"
    }
   },
   "outputs": [],
   "source": []
  },
  {
   "cell_type": "markdown",
   "metadata": {
    "slideshow": {
     "slide_type": "slide"
    }
   },
   "source": [
    "### 입력 메소드\n",
    "- read() : 문자열(text mode), bytes(binary mode) \n",
    "    - 연결된 파일의 내용을 한번에 모두 읽어 들인다.\n",
    "- readline() : 문자열(text mode), bytes(binary mode)\n",
    "    - 한 줄만 읽는다.\n",
    "    - text 입력일 경우만 사용가능\n",
    "    - 읽은 라인이 없으면 **빈문자열**을 리턴한다.\n",
    "- readlines() : 리스트\n",
    "    - 한번에 다 읽은 뒤 각각의 라인을 리스트에 원소로 담아 반환한다.\n",
    "- Text Input Stream (TextIOWrapper, BufferedReader)은 Iterable 타입.\n",
    "    - for문을 이용한 라인단위 순차 조회할 수 있다."
   ]
  },
  {
   "cell_type": "code",
   "execution_count": 12,
   "metadata": {
    "slideshow": {
     "slide_type": "fragment"
    }
   },
   "outputs": [
    {
     "name": "stdout",
     "output_type": "stream",
     "text": [
      "<class '_io.TextIOWrapper'>\n"
     ]
    }
   ],
   "source": [
    "# a.txt파일에 문자열을 출력하는 코드.\n",
    "# 1. 연결  \n",
    "fw = open(\"./a.txt\",mode=\"wt\",encoding='utf-8')    # mode 중, default가 r+t\n",
    "print(type(fw))\n",
    "# 2. 출력(쓰기)\n",
    "fw.write(\"안녕하세요!\\n\")\n",
    "fw.write(\"Hello World!\")\n",
    "# 3. 연결 닫기 : 연결을 끊어야 자유롭게 파일 변경 및 삭제 가능 \n",
    "fw.close()"
   ]
  },
  {
   "cell_type": "code",
   "execution_count": 14,
   "metadata": {},
   "outputs": [],
   "source": [
    "text_list = [\"안녕하세요.\\n\",\"반갑습니다.\\n\",\"날씨가 좋아요.\"]\n",
    "fw2 = open(\"./b.txt\",mode=\"wt\",encoding='utf-8')   # 연결      # 만약 절대경로로 하고싶다면 -> r\"C:\\temp\\b.txt\"\n",
    "# for txt in text_list:  # 쓰기 \n",
    "#     fw2.write(txt)\n",
    "fw2.writelines(text_list)      # 반복문 코드와 같은 결과 \n",
    "fw2.close()  # 연결닫기 "
   ]
  },
  {
   "cell_type": "code",
   "execution_count": 17,
   "metadata": {},
   "outputs": [
    {
     "ename": "UnicodeDecodeError",
     "evalue": "'cp949' codec can't decode byte 0xec in position 0: illegal multibyte sequence",
     "output_type": "error",
     "traceback": [
      "\u001b[31m---------------------------------------------------------------------------\u001b[39m",
      "\u001b[31mUnicodeDecodeError\u001b[39m                        Traceback (most recent call last)",
      "\u001b[36mCell\u001b[39m\u001b[36m \u001b[39m\u001b[32mIn[17]\u001b[39m\u001b[32m, line 3\u001b[39m\n\u001b[32m      1\u001b[39m \u001b[38;5;66;03m# a.txt의 내용을 읽기 \u001b[39;00m\n\u001b[32m      2\u001b[39m fr = \u001b[38;5;28mopen\u001b[39m(\u001b[33m\"\u001b[39m\u001b[33m./a.txt\u001b[39m\u001b[33m\"\u001b[39m,\u001b[33m\"\u001b[39m\u001b[33mrt\u001b[39m\u001b[33m\"\u001b[39m)    \u001b[38;5;66;03m# 연결 \u001b[39;00m\n\u001b[32m----> \u001b[39m\u001b[32m3\u001b[39m txt = \u001b[43mfr\u001b[49m\u001b[43m.\u001b[49m\u001b[43mread\u001b[49m\u001b[43m(\u001b[49m\u001b[43m)\u001b[49m         \u001b[38;5;66;03m# 이전에 메모 작성할때는 utf-8로 작성하였음, 그러나 open할때 encoding 정해주지않아 window default인 cp949로 읽으려고 했다가 error 발생 \u001b[39;00m\n\u001b[32m      4\u001b[39m fr.close()      \u001b[38;5;66;03m# 연결 닫기 \u001b[39;00m\n",
      "\u001b[31mUnicodeDecodeError\u001b[39m: 'cp949' codec can't decode byte 0xec in position 0: illegal multibyte sequence"
     ]
    }
   ],
   "source": [
    "# a.txt의 내용을 읽기 \n",
    "fr = open(\"./a.txt\",\"rt\")    # 연결 \n",
    "txt = fr.read()         # 이전에 메모 작성할때는 utf-8로 작성하였음, 그러나 open할때 encoding 정해주지않아 window default인 cp949로 읽으려고 했다가 error 발생 \n",
    "fr.close()      # 연결 닫기 "
   ]
  },
  {
   "cell_type": "code",
   "execution_count": 20,
   "metadata": {},
   "outputs": [],
   "source": [
    "fr = open(\"./a.txt\",\"rt\",encoding= \"utf-8\")      # 연결 - encodig: utf-8, cp949\n",
    "txt = fr.read()\n",
    "fr.close()    # 연결닫기 "
   ]
  },
  {
   "cell_type": "code",
   "execution_count": 21,
   "metadata": {},
   "outputs": [
    {
     "data": {
      "text/plain": [
       "'안녕하세요!\\nHello World!'"
      ]
     },
     "execution_count": 21,
     "metadata": {},
     "output_type": "execute_result"
    }
   ],
   "source": [
    "txt"
   ]
  },
  {
   "cell_type": "code",
   "execution_count": 23,
   "metadata": {},
   "outputs": [
    {
     "name": "stdout",
     "output_type": "stream",
     "text": [
      "안녕하세요.\n",
      "반갑습니다.\n",
      "날씨가 좋아요.\n"
     ]
    }
   ],
   "source": [
    "fr2 = open(\"./b.txt\", mode=\"rt\", encoding=\"utf-8\")\n",
    "txt = fr2.read()    # 한번에 다 읽기\n",
    "print(txt)\n",
    "\n",
    "fr2.close()"
   ]
  },
  {
   "cell_type": "code",
   "execution_count": 24,
   "metadata": {},
   "outputs": [
    {
     "name": "stdout",
     "output_type": "stream",
     "text": [
      "['안녕하세요.\\n', '반갑습니다.\\n', '날씨가 좋아요.']\n"
     ]
    }
   ],
   "source": [
    "fr2 = open(\"./b.txt\", mode=\"rt\", encoding=\"utf-8\")\n",
    "txt = fr2.readlines() \n",
    "print(txt)\n",
    "\n",
    "fr2.close()"
   ]
  },
  {
   "cell_type": "code",
   "execution_count": 26,
   "metadata": {},
   "outputs": [
    {
     "name": "stdout",
     "output_type": "stream",
     "text": [
      "안녕하세요.\n",
      "\n",
      "반갑습니다.\n",
      "\n",
      "날씨가 좋아요.\n"
     ]
    }
   ],
   "source": [
    "fr3 = open(\"./b.txt\", mode=\"rt\", encoding=\"utf-8\")\n",
    "\n",
    "print(fr3.readline())   # 한줄 read\n",
    "print(fr3.readline())   # (다음) 한줄을 read\n",
    "print(fr3.readline())   # (다음) 한줄을 read  -> 읽을 것이 없으면 None 반환.\n",
    "\n",
    "fr3.close()"
   ]
  },
  {
   "cell_type": "code",
   "execution_count": 27,
   "metadata": {},
   "outputs": [
    {
     "name": "stdout",
     "output_type": "stream",
     "text": [
      "1 안녕하세요.\n",
      "2 반갑습니다.\n",
      "3 날씨가 좋아요.\n"
     ]
    }
   ],
   "source": [
    "fr4 = open(\"./b.txt\",'rt',encoding='utf-8')\n",
    "\n",
    "for num, line in enumerate(fr4,start=1):\n",
    "    print(num,line.strip())\n",
    "\n",
    "fr4.close()"
   ]
  },
  {
   "cell_type": "code",
   "execution_count": null,
   "metadata": {},
   "outputs": [],
   "source": []
  },
  {
   "cell_type": "markdown",
   "metadata": {
    "slideshow": {
     "slide_type": "slide"
    }
   },
   "source": [
    "## with block\n",
    "\n",
    "파일과 입출력 작업이 다 끝나면 반드시 연결을 닫아야 한다. 매번 연결을 닫는 작업을 하는 것이 번거롭고 실수로 안 닫을 경우 문제가 생길 수 있다. **with block은 block을 벗어나면 자동으로 연결을 닫아 준다.** 그래서 연결을 닫는 코드를 생략할 수 있다.\n",
    "\n",
    "- 구문\n",
    "```python\n",
    "with open() as 변수: # `변수`는 open()이 반환하는 Stream객체를 참조한다.\n",
    "    입출력 작업      # 변수를 이용해 입출력 작업을 처리한다.\n",
    "# with block을 빠져 나오면 close()가 자동으로 실행된다.\n",
    "```"
   ]
  },
  {
   "cell_type": "code",
   "execution_count": 28,
   "metadata": {
    "slideshow": {
     "slide_type": "fragment"
    }
   },
   "outputs": [],
   "source": [
    "fr = open(\"./a.txt\",\"rt\",encoding= \"utf-8\")      # 연결 - encodig: utf-8, cp949\n",
    "txt = fr.read()\n",
    "fr.close()    # 연결닫기 "
   ]
  },
  {
   "cell_type": "code",
   "execution_count": 29,
   "metadata": {},
   "outputs": [
    {
     "name": "stdout",
     "output_type": "stream",
     "text": [
      "안녕하세요!\n",
      "Hello World!\n",
      "종료\n"
     ]
    }
   ],
   "source": [
    "# with block을 이용할 수 있는 객체를 context manager라고 한다.\n",
    "with open(\"./a.txt\", \"rt\", encoding=\"utf-8\") as fr:\n",
    "    txt = fr.read()\n",
    "    print(txt)\n",
    "# with block이 끝나면 io.close()가 자동으로 실행된다. \n",
    "print(\"종료\") "
   ]
  },
  {
   "cell_type": "markdown",
   "metadata": {},
   "source": [
    "- 가 -> 2진수  : encoding\n",
    "- 가 <- 2진수  : decoding"
   ]
  },
  {
   "cell_type": "markdown",
   "metadata": {},
   "source": [
    "- binary(이미지,동영상,음악...) -> 2진수  : encoding        \n",
    "- binary(이미지,동영상,음악...) <- 2진수  : decoding\n",
    "- ※ 과연 각각 다른 형식의 파일을 encoding-decoding 하는 방법이 같을까 , 다름\n",
    "- a = open(파일경로, \"rb\") , a.read():bytes\n",
    "- a = open(파일경로,\"wb\") , a.write(bytes)\n"
   ]
  },
  {
   "cell_type": "markdown",
   "metadata": {},
   "source": [
    "# Binary Data 입출력\n",
    "\n",
    "## `bytes` type\n",
    "binary 데이터를 입출력하기 위한 타입.  \n",
    "파이썬의 하나의 출력함수로 다양한 데이터타입의 값을 출력하기 위해 **bytes 타입으로 변환** 해야 한다. \n",
    "또 binary 데이터를 읽을 경우 **bytes 타입**으로 반환한다. 이것을 저장 전 원래 타입으로 쓰기 위해서는 bytes에서 원래 타입으로 변환하는 작업이 필요하다.   "
   ]
  },
  {
   "cell_type": "markdown",
   "metadata": {
    "slideshow": {
     "slide_type": "slide"
    }
   },
   "source": [
    "## pickle 모듈을 이용한 객체 직렬화\n",
    "- pickle 모듈: binary data 입출력을 도와주는 표준 라이브러리.\n",
    "\n",
    "### 객체 직렬화(Object Serialization) : dump()\n",
    "- 객체의 속성값들을 bytes로 변환해 출력하는 것을 객체 직렬화(Object Serialization) 이라고 한다.\n",
    "- bytes로 출력된 데이터를 읽어 객체화 하는 것을 객체 역직렬화(Object Deserialization) 이라고 한다."
   ]
  },
  {
   "cell_type": "markdown",
   "metadata": {
    "slideshow": {
     "slide_type": "fragment"
    }
   },
   "source": [
    "### pickle 모듈\n",
    "- binary 모드로 출력하거나 입력받을 경우 **bytes**  타입으로 입출력을 진행한다.\n",
    "    - 그런데 각각의 타입이 변환하는 방식이 다르기때문에 입출력 코드가 복잡해 지는 문제가 있다. 이것을 추상화해서 binary 데이터 입출력을 쉽게 처리할 수 있게하는 표준모듈이 pickle이다.\n",
    "    - 파이썬의 모든 값은 객체 이므로 pickle은 객체 직렬화, 역직렬화를 위한 파이썬 표준모듈이다.\n",
    "\n",
    "- 저장시 파일 확장자는 보통 `pkl` 이나 `pickle` 로 한다.\n",
    "- ex)\n",
    "```python\n",
    "#### binary mode로 설정한다.\n",
    "fw = open(\"data.pkl\", \"wb\") # 객체를 pickle에 저장하기 위한 output stream 생성\n",
    "fr = open(\"data.pkl\", \"rb\") # 파일에 저장된 객체를 읽어오기 위한 input stream 생성\n",
    "```\n",
    "- **메소드**\n",
    "    - dump(저장할 객체, fw) : 출력\n",
    "    - load(fr): 입력 - 읽은 객체를 반환한다."
   ]
  },
  {
   "cell_type": "code",
   "execution_count": 37,
   "metadata": {
    "slideshow": {
     "slide_type": "fragment"
    }
   },
   "outputs": [],
   "source": [
    "import pickle\n",
    "num = 10   # int \n",
    "with open(\"int_data.pkl\",\"wb\") as fo:    # int_data.pickle\n",
    "    # 피클로 저장(출력) -> dump(값, 출력stream)   dump 통해서 직렬화(->bytes변환)\n",
    "    pickle.dump(num,fo)\n",
    "    # num(int) -> bytes 변환 -> fo.write(byte)"
   ]
  },
  {
   "cell_type": "code",
   "execution_count": 48,
   "metadata": {},
   "outputs": [],
   "source": [
    "# 읽기 \n",
    "with open(\"int_data.pkl\",\"rb\") as fi :\n",
    "    result = pickle.load(fi) # 읽기 -> load(입력stream)\n",
    "    # fi.read(): 반환-bytes -> 원래타입(int)로 변환해서 반환."
   ]
  },
  {
   "cell_type": "code",
   "execution_count": 49,
   "metadata": {},
   "outputs": [
    {
     "data": {
      "text/plain": [
       "(int, 10)"
      ]
     },
     "execution_count": 49,
     "metadata": {},
     "output_type": "execute_result"
    }
   ],
   "source": [
    "type(result),result"
   ]
  },
  {
   "cell_type": "code",
   "execution_count": 50,
   "metadata": {},
   "outputs": [
    {
     "data": {
      "text/plain": [
       "\u001b[31mSignature:\u001b[39m fo.write(buffer, /)\n",
       "\u001b[31mDocstring:\u001b[39m\n",
       "Write buffer b to the IO stream.\n",
       "\n",
       "Return the number of bytes written, which is always\n",
       "the length of b in bytes.\n",
       "\n",
       "Raise BlockingIOError if the buffer is full and the\n",
       "underlying raw stream cannot accept more data at the moment.\n",
       "\u001b[31mType:\u001b[39m      builtin_function_or_method"
      ]
     },
     "metadata": {},
     "output_type": "display_data"
    }
   ],
   "source": [
    "fo.write?"
   ]
  },
  {
   "cell_type": "code",
   "execution_count": null,
   "metadata": {},
   "outputs": [],
   "source": [
    "d = {\n",
    "    \"이름\" : '구자현',\n",
    "    \"나이\" : \"27\",\n",
    "    \"주소\" : \"경기도\",\n",
    "    \"취미\" : [\"게임\",\"운동\"],\n",
    "    \"특기\" : (\"발표\",\"글쓰기\"),\n",
    "    \"결혼여부\" : True\n",
    "}"
   ]
  },
  {
   "cell_type": "code",
   "execution_count": 67,
   "metadata": {},
   "outputs": [
    {
     "name": "stdout",
     "output_type": "stream",
     "text": [
      "이름: 구자현, 나이:27\n"
     ]
    }
   ],
   "source": [
    "class Person:\n",
    "\n",
    "    def __init__(self,name,age):\n",
    "        self.name = name\n",
    "        self.age = age\n",
    "    def __str__(self):\n",
    "        return f\"이름: {self.name}, 나이:{self.age}\"\n",
    "\n",
    "d = Person(\"구자현\", 27)\n",
    "print(d)"
   ]
  },
  {
   "cell_type": "code",
   "execution_count": 68,
   "metadata": {},
   "outputs": [],
   "source": [
    "with open(\"info.pickle\",\"wb\") as fo:\n",
    "    pickle.dump(d,fo)"
   ]
  },
  {
   "cell_type": "code",
   "execution_count": 69,
   "metadata": {},
   "outputs": [
    {
     "name": "stdout",
     "output_type": "stream",
     "text": [
      "<class '__main__.Person'>\n"
     ]
    }
   ],
   "source": [
    "with open(\"info.pickle\",\"rb\") as fi:\n",
    "    saved_info = pickle.load(fi)\n",
    "    print(type(saved_info))"
   ]
  },
  {
   "cell_type": "code",
   "execution_count": 66,
   "metadata": {},
   "outputs": [],
   "source": [
    "with open(\"info.pickle\",\"wb\") as fo:\n",
    "    pickle.dump(d, fo)"
   ]
  },
  {
   "cell_type": "code",
   "execution_count": 62,
   "metadata": {},
   "outputs": [
    {
     "data": {
      "text/plain": [
       "{'이름': '구자현',\n",
       " '나이': '27',\n",
       " '주소': '경기도',\n",
       " '취미': ['게임', '운동'],\n",
       " '특기': ('발표', '글쓰기'),\n",
       " '결혼여부': True}"
      ]
     },
     "execution_count": 62,
     "metadata": {},
     "output_type": "execute_result"
    }
   ],
   "source": [
    "d"
   ]
  },
  {
   "cell_type": "code",
   "execution_count": 63,
   "metadata": {},
   "outputs": [
    {
     "name": "stdout",
     "output_type": "stream",
     "text": [
      "<class 'dict'>\n"
     ]
    }
   ],
   "source": [
    "with open(\"info.pickle\",\"rb\") as fi:\n",
    "    saved_info = pickle.load(fi)\n",
    "    print(type(saved_info))"
   ]
  },
  {
   "cell_type": "code",
   "execution_count": 64,
   "metadata": {},
   "outputs": [
    {
     "data": {
      "text/plain": [
       "{'이름': '구자현',\n",
       " '나이': '27',\n",
       " '주소': '경기도',\n",
       " '취미': ['게임', '운동'],\n",
       " '특기': ('발표', '글쓰기'),\n",
       " '결혼여부': True}"
      ]
     },
     "execution_count": 64,
     "metadata": {},
     "output_type": "execute_result"
    }
   ],
   "source": [
    "saved_info"
   ]
  },
  {
   "cell_type": "code",
   "execution_count": 65,
   "metadata": {},
   "outputs": [
    {
     "data": {
      "text/plain": [
       "['게임', '운동']"
      ]
     },
     "execution_count": 65,
     "metadata": {},
     "output_type": "execute_result"
    }
   ],
   "source": [
    "saved_info[\"취미\"]"
   ]
  },
  {
   "cell_type": "code",
   "execution_count": null,
   "metadata": {},
   "outputs": [],
   "source": []
  },
  {
   "cell_type": "markdown",
   "metadata": {
    "slideshow": {
     "slide_type": "skip"
    }
   },
   "source": [
    "# TODO"
   ]
  },
  {
   "cell_type": "markdown",
   "metadata": {
    "slideshow": {
     "slide_type": "skip"
    }
   },
   "source": [
    "- ## 간단한 CLI 기반 메모장\n",
    "    1. 사용자로부터 파일명을 입력받는다.\n",
    "    2. 사용자로부터 파일에 저장할 문장을 입력받아서 파일에 저장한다.\n",
    "        - 한줄씩 입력받는다.\n",
    "        - 사용자가 !q 를 입력하면 저장후 종료한다.\n",
    "    3. 사용자가 저장한 파일을 읽어서 출력한다.\n"
   ]
  },
  {
   "cell_type": "markdown",
   "metadata": {},
   "source": [
    "- 입력 : input()\n",
    "- !q 전까지 계속 입력받아서 저장 - 반복문(while, 조건이 !q아닐때까지)  while True ~ if () == !q ~~\n",
    "- 저장 : \"wt\""
   ]
  },
  {
   "cell_type": "code",
   "execution_count": 78,
   "metadata": {},
   "outputs": [
    {
     "name": "stdin",
     "output_type": "stream",
     "text": [
      "파일명: zvzxvxz\n",
      "저장할 문장: aa\n",
      "저장할 문장: a\n",
      "저장할 문장: !q\n"
     ]
    },
    {
     "name": "stdout",
     "output_type": "stream",
     "text": [
      "종료~\n"
     ]
    }
   ],
   "source": [
    "# 내가 짠 코드 \n",
    "filename = input(\"파일명:\")\n",
    "open(f\"./{filename}.txt\",mode=\"wt\",encoding='utf-8')\n",
    "\n",
    "while True:\n",
    "    q = input(\"저장할 문장:\")\n",
    "    fw = open(f\"./{filename}.txt\",mode=\"wt\",encoding='utf-8')\n",
    "    fw.write(q)\n",
    "    if q == \"!q\":\n",
    "        print(\"종료~\")\n",
    "        break\n",
    "fw.close()"
   ]
  },
  {
   "cell_type": "code",
   "execution_count": 83,
   "metadata": {},
   "outputs": [
    {
     "name": "stdout",
     "output_type": "stream",
     "text": [
      "Overwriting simple_memo.py\n"
     ]
    }
   ],
   "source": [
    "%%writefile simple_memo.py\n",
    "# cmd -> python simple_memo.py    , CLI메모장\n",
    "\n",
    "#강사님\n",
    "\n",
    "\n",
    "print(\"==================CLI메모장=========================\")\n",
    "file_path = input(\"저장할 파일경로:\")\n",
    "with open(file_path, \"wt\", encoding=\"utf-8\") as fw:\n",
    "    print(\"==================저장할 내용을 한줄씩 입력하세요.=============\")\n",
    "    while True:\n",
    "        txt = input(\">>\")\n",
    "        if txt == '!q':\n",
    "            break\n",
    "        fw.write(txt+\"\\n\")\n",
    "        \n",
    "print(\"==============저장되었습니다.===============\")"
   ]
  },
  {
   "cell_type": "code",
   "execution_count": null,
   "metadata": {},
   "outputs": [],
   "source": []
  }
 ],
 "metadata": {
  "kernelspec": {
   "display_name": "Python 3 (ipykernel)",
   "language": "python",
   "name": "python3"
  },
  "language_info": {
   "codemirror_mode": {
    "name": "ipython",
    "version": 3
   },
   "file_extension": ".py",
   "mimetype": "text/x-python",
   "name": "python",
   "nbconvert_exporter": "python",
   "pygments_lexer": "ipython3",
   "version": "3.12.9"
  },
  "toc": {
   "base_numbering": 1,
   "nav_menu": {},
   "number_sections": true,
   "sideBar": true,
   "skip_h1_title": false,
   "title_cell": "Table of Contents",
   "title_sidebar": "Contents",
   "toc_cell": false,
   "toc_position": {},
   "toc_section_display": true,
   "toc_window_display": false
  },
  "varInspector": {
   "cols": {
    "lenName": 16,
    "lenType": 16,
    "lenVar": 40
   },
   "kernels_config": {
    "python": {
     "delete_cmd_postfix": "",
     "delete_cmd_prefix": "del ",
     "library": "var_list.py",
     "varRefreshCmd": "print(var_dic_list())"
    },
    "r": {
     "delete_cmd_postfix": ") ",
     "delete_cmd_prefix": "rm(",
     "library": "var_list.r",
     "varRefreshCmd": "cat(var_dic_list()) "
    }
   },
   "types_to_exclude": [
    "module",
    "function",
    "builtin_function_or_method",
    "instance",
    "_Feature"
   ],
   "window_display": false
  }
 },
 "nbformat": 4,
 "nbformat_minor": 4
}
