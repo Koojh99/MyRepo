{
 "cells": [
  {
   "cell_type": "markdown",
   "id": "da193321",
   "metadata": {
    "slideshow": {
     "slide_type": "slide"
    }
   },
   "source": [
    "# 자료구조란\n",
    "\n",
    "-   **여러 개의 값들을 모아서 관리**하는 데이터 타입.\n",
    "    -   한 개의 변수는 한 개의 값 밖에는 가지지 못한다. 그러나 하나의 변수로 여러 개의 값 관리해야 할 경우가 있다.\n",
    "    -   하나의 값이 여러개의 값들로 구성된 경우\n",
    "        -   한명의 고객 정보의 경우 이름, 나이, 주소, 전화번호 등 여러개의 값이 모여서 하나의 값이 된다.\n",
    "        -   한 반의 학생들의 이름들은 여러개의 이름들로 구성된다.\n",
    "-   파이썬은 데이터를 모으는 방식에 따라 다음과 같이 4개의 타입을 제공한다.\n",
    "    -   **List:** 순서가 있으며 중복된 값들을 모으는 것을 허용하고 구성하는 값들(원소)을 변경할 수 있다.\n",
    "    -   **Tuple:** 순서가 있으며 중복된 값들을 모으는 것을 허용하는데 구성하는 값들을 변경할 수 없다.\n",
    "    -   **Dictionary:** key-value 형태로 값들을 저장해 관리한다.\n",
    "    -   **Set:** 중복을 허용하지 않고 값들의 순서가 없다.\n",
    "-   **원소, 성분, 요소, element**\n",
    "    -   자료구조의 값들을 구성하는 개별 값들을 말한다.\n",
    "    -   len(자료구조) 함수\n",
    "        -   자료구조 내의 원소의 개수를 반환한다.\n"
   ]
  },
  {
   "cell_type": "markdown",
   "id": "84431cfd",
   "metadata": {
    "slideshow": {
     "slide_type": "slide"
    }
   },
   "source": [
    "# List (리스트)\n",
    "\n",
    "-   값들을 순서대로 모아서 관리하는 자료구조. 원소(element)들을 순번을 이용해 식별한다.\n",
    "    -   각각의 원소가 어떤 값인지를 index(순번)을 가지고 식별하기 때문에 **순서가 있고 그 순서가 매우 중요하다.** 즉 같은 값에 대해 순서가 바뀌면 안된다.\n",
    "-   각각의 원소들은 index를 이용해 식별한다.\n",
    "    -   index는 문자열과 마찮가지로 양수 index와 음수 index 두개가 각 값에 생긴다.\n",
    "    -   양수 index는 앞에서부터 음수 index는 뒤에서 부터 값을 식별할 때 사용하는 것이 편리하다.\n",
    "    -   **index를 가지고 각 원소값의 의미를 식별할 수 있으면 List나 Tuple을 사용한다.**\n",
    "-   중복된 값들을 저장할 수 있다.\n",
    "-   각 원소들의 데이터 타입은 달라도 상관없다.\n",
    "    -   보통은 같은 타입의 데이터를 모은다.\n",
    "-   리스트를 구성하는 **원소들을 변경할 수 있다.** (추가, 삭제, 변경이 가능)\n",
    "    -   원소 변경 여부가 List와 Tuple의 차이이다.\n",
    "\n",
    "## List 생성 구문\n",
    "\n",
    "```python\n",
    "[값, 값, 값, ..]\n",
    "```\n"
   ]
  },
  {
   "cell_type": "code",
   "execution_count": 204,
   "id": "6eef6bd9",
   "metadata": {},
   "outputs": [
    {
     "name": "stdout",
     "output_type": "stream",
     "text": [
      "[10, 20, 30, 40, 50]\n"
     ]
    }
   ],
   "source": [
    "l1 = [10,20,30,40,50]\n",
    "print(l1)"
   ]
  },
  {
   "cell_type": "code",
   "execution_count": 205,
   "id": "efc59691",
   "metadata": {
    "ExecuteTime": {
     "end_time": "2022-12-18T00:22:24.071490Z",
     "start_time": "2022-12-18T00:22:23.651455Z"
    },
    "slideshow": {
     "slide_type": "fragment"
    }
   },
   "outputs": [
    {
     "name": "stdout",
     "output_type": "stream",
     "text": [
      "<class 'list'>\n"
     ]
    },
    {
     "data": {
      "text/plain": [
       "True"
      ]
     },
     "execution_count": 205,
     "metadata": {},
     "output_type": "execute_result"
    }
   ],
   "source": [
    "print(type(l1))\n",
    "type(l1) == list"
   ]
  },
  {
   "cell_type": "code",
   "execution_count": 206,
   "id": "f4c77589-c6d5-479c-89a4-f79f3e81e573",
   "metadata": {},
   "outputs": [
    {
     "data": {
      "text/plain": [
       "['이순신', 30, '서울', 180.31]"
      ]
     },
     "execution_count": 206,
     "metadata": {},
     "output_type": "execute_result"
    }
   ],
   "source": [
    "person1 = ['이순신',30,'서울',180.31]\n",
    "person1"
   ]
  },
  {
   "cell_type": "code",
   "execution_count": 209,
   "id": "3771719f-a216-4c43-8b85-30a7a458844b",
   "metadata": {},
   "outputs": [
    {
     "data": {
      "text/plain": [
       "[100, 200, [300, 400], [500, [600, 700]]]"
      ]
     },
     "execution_count": 209,
     "metadata": {},
     "output_type": "execute_result"
    }
   ],
   "source": [
    "l2 = [100, 200, [300, 400], [500, [600, 700]]]  \n",
    "# 리스트(자료구조)안에 원소로 리스트(자료구조)\n",
    "l2"
   ]
  },
  {
   "cell_type": "code",
   "execution_count": null,
   "id": "e5f16a4c-f747-4144-a415-a0d56f2a4845",
   "metadata": {},
   "outputs": [],
   "source": []
  },
  {
   "cell_type": "code",
   "execution_count": null,
   "id": "fa6d8497-30a6-4292-8a9c-fa5c5f041a8b",
   "metadata": {},
   "outputs": [],
   "source": []
  },
  {
   "cell_type": "markdown",
   "id": "08d634bf",
   "metadata": {
    "slideshow": {
     "slide_type": "subslide"
    }
   },
   "source": [
    "## Indexing과 Slicing을 이용한 원소(element) 조회 및 변경\n",
    "\n",
    "### Indexing\n",
    "\n",
    "-   하나의 원소를 조회하거나 변경할 때 사용\n",
    "-   리스트\\[index\\]\n",
    "    -   index의 원소를 조회\n",
    "-   리스트\\[index\\] = 값\n",
    "    -   index의 원소를 변경\n"
   ]
  },
  {
   "cell_type": "markdown",
   "id": "ab5a40cb",
   "metadata": {
    "slideshow": {
     "slide_type": "fragment"
    }
   },
   "source": [
    "### Slicing\n",
    "\n",
    "-   범위로 조회하거나 그 범위의 값들을 변경한다.\n",
    "-   기본구문: **리스트\\[ 시작 index : 종료 index : 간격\\]**\n",
    "    -   시작 index ~ (종료 index – 1)\n",
    "    -   간격을 지정하면 간격만큼 index를 증/감한다. (생략 시 1이 기본 간격)\n",
    "-   **0번 index 부터 조회 할 경우 시작 index는 생략가능**\n",
    "    -   리스트 \\[ : 5\\] => 0 ~ 4 까지 조회\n",
    "-   **마지막 index까지 (끝까지) 조회 할 경우 종료 index는 생략 가능**\n",
    "    -   리스트\\[2 : \\] => 2번 index 에서 끝까지\n",
    "-   **명시적으로 간격을 줄 경우**\n",
    "    -   리스트\\[ : : 3 \\] => 0, 3, 6, 9.. index의 값 조회\n",
    "    -   리스트\\[1 : 9 : 2\\] => 1, 3, 5, 7 index의 값 조회\n",
    "-   **시작 index > 종료 index, 간격을 음수로 하면 역으로 반환한다.(Reverse)**\n",
    "    -   리스트\\[5: 1: -1\\] => 5, 4, 3, 2 index의 값 조회\n",
    "    -   리스트\\[: : -1\\] => 마지막 index ~ 0번 index 까지 의미. Reverse 한다.\n",
    "\n",
    "#### slicing을 이용한 값 변경\n",
    "\n",
    "-   slicing 을 이용할 경우 slicing된 원소 개수와 동일한 개수의 값들을 대입한다.\n",
    "    -   `리스트[1:5] = 10,20,30,40` : index 1, 2, 3, 4의 값을 각각 10, 20, 30, 40 으로 변경\n"
   ]
  },
  {
   "cell_type": "code",
   "execution_count": 210,
   "id": "a758ab6d",
   "metadata": {},
   "outputs": [
    {
     "data": {
      "text/plain": [
       "0"
      ]
     },
     "execution_count": 210,
     "metadata": {},
     "output_type": "execute_result"
    }
   ],
   "source": [
    "l = [0,1,2,3,4,5,6,7,8,9]\n",
    "# indexing \n",
    "l[0]"
   ]
  },
  {
   "cell_type": "code",
   "execution_count": 212,
   "id": "82791f1c-d918-463e-8519-817760849606",
   "metadata": {},
   "outputs": [
    {
     "name": "stdout",
     "output_type": "stream",
     "text": [
      "[0, 1, 2, 3, 4, 5, 6, 7, 8, 9]\n",
      "[10000, 1, 2, 3, 4, 5, 6, 7, 8, 9]\n"
     ]
    }
   ],
   "source": [
    "# 변경 \n",
    "print(l)\n",
    "l[0] = 10_000\n",
    "print(l)"
   ]
  },
  {
   "cell_type": "code",
   "execution_count": 213,
   "id": "4460d5ea-1700-4ea0-a252-e6e435de8b41",
   "metadata": {},
   "outputs": [
    {
     "data": {
      "text/plain": [
       "[10000, 1, 2, 3, 4, 5, 6, 7, 8, 90000]"
      ]
     },
     "execution_count": 213,
     "metadata": {},
     "output_type": "execute_result"
    }
   ],
   "source": [
    "l[-1] = 90_000\n",
    "l"
   ]
  },
  {
   "cell_type": "code",
   "execution_count": 214,
   "id": "c10375b8-9e96-4a6a-a284-7a9aa4ede86e",
   "metadata": {},
   "outputs": [
    {
     "name": "stdout",
     "output_type": "stream",
     "text": [
      "[10000, 1, 2, 3, 4, 5, 6, 7, 8, 90000]\n"
     ]
    },
    {
     "data": {
      "text/plain": [
       "[1, 2, 3, 4, 5, 6, 7]"
      ]
     },
     "execution_count": 214,
     "metadata": {},
     "output_type": "execute_result"
    }
   ],
   "source": [
    "# slicing \n",
    "print(l)\n",
    "l[1:8] # 간격: 1 , default 값"
   ]
  },
  {
   "cell_type": "code",
   "execution_count": 215,
   "id": "5d462776",
   "metadata": {
    "slideshow": {
     "slide_type": "fragment"
    }
   },
   "outputs": [
    {
     "data": {
      "text/plain": [
       "[1, 3, 5, 7]"
      ]
     },
     "execution_count": 215,
     "metadata": {},
     "output_type": "execute_result"
    }
   ],
   "source": [
    "l[1:8:2]"
   ]
  },
  {
   "cell_type": "code",
   "execution_count": 216,
   "id": "a6416839-d74d-4d2b-b357-5c2af54a9e5e",
   "metadata": {},
   "outputs": [
    {
     "data": {
      "text/plain": [
       "[90000, 8, 7, 6, 5, 4, 3, 2, 1, 10000]"
      ]
     },
     "execution_count": 216,
     "metadata": {},
     "output_type": "execute_result"
    }
   ],
   "source": [
    "l[::-1]"
   ]
  },
  {
   "cell_type": "code",
   "execution_count": 219,
   "id": "50d69366-4377-4417-af6e-33fe75b6e09b",
   "metadata": {},
   "outputs": [
    {
     "name": "stdout",
     "output_type": "stream",
     "text": [
      "[10000, 1, 2, 3, 4, 5, 6, 7, 8, 90000]\n",
      "False 600 700\n"
     ]
    },
    {
     "data": {
      "text/plain": [
       "[10000, 1, 2, 3, 4, 5, 6, 7, 8, 90000]"
      ]
     },
     "execution_count": 219,
     "metadata": {},
     "output_type": "execute_result"
    }
   ],
   "source": [
    "# slicing 변경 \n",
    "print(l)\n",
    "print(l[1:4] == 500,600,700) # 개수가 맞아야한다.\n",
    "l"
   ]
  },
  {
   "cell_type": "code",
   "execution_count": null,
   "id": "d2db7c28-3b21-4551-84c1-a48e6378c590",
   "metadata": {},
   "outputs": [],
   "source": []
  },
  {
   "cell_type": "markdown",
   "id": "a4f9fe12",
   "metadata": {
    "slideshow": {
     "slide_type": "slide"
    }
   },
   "source": [
    "## List 연산자\n",
    "\n",
    "-   **리스트 + 리스트**\n",
    "    -   두 리스트의 원소들을 합친 리스트를 반환한다.\n",
    "-   **리스트 \\* 정수**\n",
    "    -   같은 리스트의 원소들을 정수번 합친 리스트를 반환한다.\n",
    "-   **in, not in 연산자**\n",
    "    -   값 in 리스트\n",
    "        -   리스트의 원소로 값이 **있으면** True, 없으면 False 반환\n",
    "    -   값 not in 리스트\n",
    "        -   리스트의 원소로 값이 **없으면** True, 있으면 False 반환\n",
    "-   **len(리스트)**\n",
    "    -   리스트 내의 원소수를 반환.\n"
   ]
  },
  {
   "cell_type": "code",
   "execution_count": 220,
   "id": "db069ee7",
   "metadata": {},
   "outputs": [
    {
     "name": "stdout",
     "output_type": "stream",
     "text": [
      "[1, 2, 3, 100, 200, 300, 400]\n"
     ]
    },
    {
     "data": {
      "text/plain": [
       "[100, 200, 300, 400]"
      ]
     },
     "execution_count": 220,
     "metadata": {},
     "output_type": "execute_result"
    }
   ],
   "source": [
    "a = [1,2,3]\n",
    "b = [100,200,300,400]\n",
    "c = a+b\n",
    "print(c)\n",
    "b"
   ]
  },
  {
   "cell_type": "code",
   "execution_count": 221,
   "id": "f085e817",
   "metadata": {
    "ExecuteTime": {
     "end_time": "2022-12-17T14:17:03.293505Z",
     "start_time": "2022-12-17T14:17:03.285501Z"
    },
    "slideshow": {
     "slide_type": "fragment"
    }
   },
   "outputs": [
    {
     "data": {
      "text/plain": [
       "[1, 2, 3, 1, 2, 3, 1, 2, 3, 1, 2, 3]"
      ]
     },
     "execution_count": 221,
     "metadata": {},
     "output_type": "execute_result"
    }
   ],
   "source": [
    "d = a *4 \n",
    "d"
   ]
  },
  {
   "cell_type": "code",
   "execution_count": null,
   "id": "c79cbedb-7b71-4299-b469-7d227e7f3578",
   "metadata": {},
   "outputs": [],
   "source": []
  },
  {
   "cell_type": "code",
   "execution_count": null,
   "id": "b9c8fea4-07b1-4ba5-87bb-c56bb2598ad6",
   "metadata": {},
   "outputs": [],
   "source": []
  },
  {
   "cell_type": "code",
   "execution_count": null,
   "id": "f1bd8f4b-1733-4ba6-8fc7-d7b5d4172567",
   "metadata": {},
   "outputs": [],
   "source": []
  },
  {
   "cell_type": "markdown",
   "id": "f90af754",
   "metadata": {
    "slideshow": {
     "slide_type": "slide"
    }
   },
   "source": [
    "## 중첩 리스트 (Nested List)\n",
    "\n",
    "-   List가 원소로 List를 가지는 것을 말한다.\n",
    "    -   List를 포함한 모든 자료구조 타입들도 다 값이므로 다른 자료구조의 원소로 들어갈 수 있다.\n"
   ]
  },
  {
   "cell_type": "code",
   "execution_count": 222,
   "id": "4f52b717",
   "metadata": {},
   "outputs": [
    {
     "data": {
      "text/plain": [
       "[[1, 2, 3], [10, 20, 30], [100, 200, 300]]"
      ]
     },
     "execution_count": 222,
     "metadata": {},
     "output_type": "execute_result"
    }
   ],
   "source": [
    "l = [\n",
    "    [1, 2, 3],\n",
    "    [10, 20, 30],\n",
    "    [100, 200, 300]\n",
    "]\n",
    "l"
   ]
  },
  {
   "cell_type": "code",
   "execution_count": 223,
   "id": "01bede57",
   "metadata": {
    "slideshow": {
     "slide_type": "fragment"
    }
   },
   "outputs": [
    {
     "data": {
      "text/plain": [
       "10"
      ]
     },
     "execution_count": 223,
     "metadata": {},
     "output_type": "execute_result"
    }
   ],
   "source": [
    "l[1][0]"
   ]
  },
  {
   "cell_type": "code",
   "execution_count": null,
   "id": "2dfd6c46",
   "metadata": {
    "slideshow": {
     "slide_type": "fragment"
    }
   },
   "outputs": [],
   "source": []
  },
  {
   "cell_type": "markdown",
   "id": "826b8780",
   "metadata": {
    "slideshow": {
     "slide_type": "slide"
    }
   },
   "source": [
    "## List 주요 메소드\n",
    "\n",
    "| 메소드                       | 설명                                                                                 |\n",
    "| :--------------------------- | ------------------------------------------------------------------------------------ |\n",
    "| append(value)                | value를 추가한다.                                                                    |\n",
    "| extend(List)                 | List의 원소들을 추가한다.                                                            |\n",
    "| sort(\\[reverse=False\\])      | 원소들을 오름차순 정렬한다. reverse=True로 하면 내림차순정렬 한다.                   |\n",
    "| insert(index, 삽입할값)      | 지정한 index에 '삽입할값'을 삽입한다.                                                |\n",
    "| remove(삭제할값)             | '삭제할값' 값과 같은 원소를 삭제한다.                                                |\n",
    "| index(찾을값\\[, 시작index\\]) | '찾을값'의 index를 반환한다.                                                         |\n",
    "| pop(\\[index\\])               | index의 값을 반환하면서 삭제한다. index 생략하면 가장 마지막 값을 반환하며 삭제한다. |\n",
    "| count(값)                    | '값'이 리스트의 원소로 몇개 있는지 반환한다.                                         |\n",
    "| clear()                      | 리스트 안의 모든 원소들을 삭제한다.                                                  |\n"
   ]
  },
  {
   "cell_type": "code",
   "execution_count": 224,
   "id": "041be1da",
   "metadata": {},
   "outputs": [
    {
     "data": {
      "text/plain": [
       "[10, 20, 30, 100]"
      ]
     },
     "execution_count": 224,
     "metadata": {},
     "output_type": "execute_result"
    }
   ],
   "source": [
    "l = [10,20,30]\n",
    "l.append(100) # 한개씩 추가\n",
    "l"
   ]
  },
  {
   "cell_type": "code",
   "execution_count": 225,
   "id": "4b14d8e8",
   "metadata": {
    "slideshow": {
     "slide_type": "fragment"
    }
   },
   "outputs": [
    {
     "data": {
      "text/plain": [
       "[10, 20, 30, 100, 1, 2, 3, 4]"
      ]
     },
     "execution_count": 225,
     "metadata": {},
     "output_type": "execute_result"
    }
   ],
   "source": [
    "l.extend([1,2,3,4]) # 여러개 값 추가\n",
    "l"
   ]
  },
  {
   "cell_type": "code",
   "execution_count": 226,
   "id": "3953b25a-b208-448f-aadd-871757a6f482",
   "metadata": {},
   "outputs": [
    {
     "data": {
      "text/plain": [
       "[10, 20, 5000, 30, 100, 1, 2, 3, 4]"
      ]
     },
     "execution_count": 226,
     "metadata": {},
     "output_type": "execute_result"
    }
   ],
   "source": [
    "# 삽입 \n",
    "l.insert(2,5000)\n",
    "l"
   ]
  },
  {
   "cell_type": "code",
   "execution_count": null,
   "id": "58be49b4-4223-46cc-89af-93d02cd77a24",
   "metadata": {},
   "outputs": [],
   "source": [
    "# 정렬 - sorted() 함수, sort() list의 메소드\n",
    "# sorted() 함수b- 모든 자료구조를 받아서 정렬 한 결과를 List로 반환. (원본을 정렬하지 않는다.)\n",
    "# sort() 메소드 - list용. List자체를 정렬."
   ]
  },
  {
   "cell_type": "code",
   "execution_count": 227,
   "id": "8af51cf8-b674-4acd-be2c-57e4b1df78ff",
   "metadata": {},
   "outputs": [
    {
     "data": {
      "text/plain": [
       "[1, 2, 3, 4, 10, 20, 30, 100, 5000]"
      ]
     },
     "execution_count": 227,
     "metadata": {},
     "output_type": "execute_result"
    }
   ],
   "source": [
    "result = sorted(l) # 오름차순\n",
    "result"
   ]
  },
  {
   "cell_type": "code",
   "execution_count": 228,
   "id": "a1a585eb-ac28-45d5-a1fc-95eac94ce176",
   "metadata": {},
   "outputs": [
    {
     "data": {
      "text/plain": [
       "[5000, 100, 30, 20, 10, 4, 3, 2, 1]"
      ]
     },
     "execution_count": 228,
     "metadata": {},
     "output_type": "execute_result"
    }
   ],
   "source": [
    "sorted(l,reverse=True) # 내림차순"
   ]
  },
  {
   "cell_type": "code",
   "execution_count": 230,
   "id": "2c5c278e-d4f2-4698-84e3-55eec2083d49",
   "metadata": {},
   "outputs": [
    {
     "data": {
      "text/plain": [
       "[1, 2, 3, 4, 10, 20, 30, 100, 5000]"
      ]
     },
     "execution_count": 230,
     "metadata": {},
     "output_type": "execute_result"
    }
   ],
   "source": [
    "l.sort() # 오름차순\n",
    "l"
   ]
  },
  {
   "cell_type": "code",
   "execution_count": 231,
   "id": "fbada339-694f-4580-ae1b-0ce2f087dbe9",
   "metadata": {},
   "outputs": [
    {
     "data": {
      "text/plain": [
       "[5000, 100, 30, 20, 10, 4, 3, 2, 1]"
      ]
     },
     "execution_count": 231,
     "metadata": {},
     "output_type": "execute_result"
    }
   ],
   "source": [
    "l.sort(reverse=True)\n",
    "l"
   ]
  },
  {
   "cell_type": "code",
   "execution_count": 232,
   "id": "5f0a19f2-defa-4521-ab34-a31a61b65eda",
   "metadata": {},
   "outputs": [
    {
     "data": {
      "text/plain": [
       "[5000, 30, 20, 10, 4, 3, 2, 1]"
      ]
     },
     "execution_count": 232,
     "metadata": {},
     "output_type": "execute_result"
    }
   ],
   "source": [
    "# 삭제 \n",
    "## 값으로 삭제 \n",
    "l.remove(100)\n",
    "l"
   ]
  },
  {
   "cell_type": "code",
   "execution_count": 234,
   "id": "99e90845-2f01-4675-a86f-c7dbcb19455d",
   "metadata": {},
   "outputs": [
    {
     "data": {
      "text/plain": [
       "1"
      ]
     },
     "execution_count": 234,
     "metadata": {},
     "output_type": "execute_result"
    }
   ],
   "source": [
    "l.pop() # 마지막 index 값을 삭제 \n"
   ]
  },
  {
   "cell_type": "markdown",
   "id": "5b28f033",
   "metadata": {
    "slideshow": {
     "slide_type": "slide"
    }
   },
   "source": [
    "# Tuple (튜플)\n",
    "\n",
    "-   List와 같이 순서대로 원소들을 관리한다. 단 저장된 원소를 변경할 수 없다.\n",
    "-   Tuple 은 각 위치(Index) 마다 정해진 의미가 있고 그 값이 한번 설정되면 바뀌지 않는 경우에 사용한다.\n",
    "    -   Tuple은 값의 변경되지 않으므로 안전하다.\n",
    "\n",
    "## Tuple 생성\n",
    "\n",
    "-   `(value, value, value, ...)`\n",
    "-   소괄호를 생략할 수 있다.\n",
    "-   원소가 하나인 Tuple 표현식\n",
    "    -   `(value,)` 또는 `value,`\n",
    "        -   값 뒤에 `,` 를 붙여준다. `,`를 붙이지 않으면 ( )가 연산자 우선순위 괄호가 된다.\n"
   ]
  },
  {
   "cell_type": "code",
   "execution_count": 6,
   "id": "46835cd4-9244-40c9-b636-a3dcd76bc693",
   "metadata": {},
   "outputs": [
    {
     "data": {
      "text/plain": [
       "tuple"
      ]
     },
     "execution_count": 6,
     "metadata": {},
     "output_type": "execute_result"
    }
   ],
   "source": [
    "t1 = 1,2,3,4,5\n",
    "type(t1)"
   ]
  },
  {
   "cell_type": "code",
   "execution_count": 1,
   "id": "f7f96391",
   "metadata": {},
   "outputs": [
    {
     "data": {
      "text/plain": [
       "(10, 20, 30, 40, 50)"
      ]
     },
     "execution_count": 1,
     "metadata": {},
     "output_type": "execute_result"
    }
   ],
   "source": [
    "t2 = 10,20,30,40,50\n",
    "t2"
   ]
  },
  {
   "cell_type": "code",
   "execution_count": 5,
   "id": "5fd91b03-d2fb-4ae3-9ebf-800482ac299d",
   "metadata": {},
   "outputs": [
    {
     "data": {
      "text/plain": [
       "int"
      ]
     },
     "execution_count": 5,
     "metadata": {},
     "output_type": "execute_result"
    }
   ],
   "source": [
    "t3 = 100\n",
    "type(t3)"
   ]
  },
  {
   "cell_type": "code",
   "execution_count": 3,
   "id": "17099a9e",
   "metadata": {
    "slideshow": {
     "slide_type": "fragment"
    }
   },
   "outputs": [
    {
     "data": {
      "text/plain": [
       "tuple"
      ]
     },
     "execution_count": 3,
     "metadata": {},
     "output_type": "execute_result"
    }
   ],
   "source": [
    "t3 = (100,)\n",
    "type(t3)"
   ]
  },
  {
   "cell_type": "code",
   "execution_count": 4,
   "id": "9fac13a5-6727-45ce-b5ee-54c778bb6eb6",
   "metadata": {},
   "outputs": [
    {
     "data": {
      "text/plain": [
       "tuple"
      ]
     },
     "execution_count": 4,
     "metadata": {},
     "output_type": "execute_result"
    }
   ],
   "source": [
    "t4 = 200,\n",
    "type(t4)"
   ]
  },
  {
   "cell_type": "markdown",
   "id": "16954356",
   "metadata": {
    "slideshow": {
     "slide_type": "slide"
    }
   },
   "source": [
    "## Indexing과 Slicing을 이용한 원소(element) 조회\n",
    "\n",
    "-   리스트와 동일하다.\n",
    "-   단 튜플은 조회만 가능하고 원소를 변경할 수 없다.\n"
   ]
  },
  {
   "cell_type": "code",
   "execution_count": 7,
   "id": "fa92bc45",
   "metadata": {},
   "outputs": [
    {
     "data": {
      "text/plain": [
       "1"
      ]
     },
     "execution_count": 7,
     "metadata": {},
     "output_type": "execute_result"
    }
   ],
   "source": [
    "t1[0]"
   ]
  },
  {
   "cell_type": "code",
   "execution_count": 8,
   "id": "6c5b9b2c",
   "metadata": {
    "slideshow": {
     "slide_type": "fragment"
    }
   },
   "outputs": [
    {
     "ename": "TypeError",
     "evalue": "'tuple' object does not support item assignment",
     "output_type": "error",
     "traceback": [
      "\u001b[31m---------------------------------------------------------------------------\u001b[39m",
      "\u001b[31mTypeError\u001b[39m                                 Traceback (most recent call last)",
      "\u001b[36mCell\u001b[39m\u001b[36m \u001b[39m\u001b[32mIn[8]\u001b[39m\u001b[32m, line 1\u001b[39m\n\u001b[32m----> \u001b[39m\u001b[32m1\u001b[39m \u001b[43mt1\u001b[49m\u001b[43m[\u001b[49m\u001b[32;43m0\u001b[39;49m\u001b[43m]\u001b[49m= \u001b[32m100\u001b[39m\n",
      "\u001b[31mTypeError\u001b[39m: 'tuple' object does not support item assignment"
     ]
    }
   ],
   "source": [
    "t1[0]= 100  # tuple이라 변경 불가능 "
   ]
  },
  {
   "cell_type": "code",
   "execution_count": 10,
   "id": "80692bf5-788c-4f1e-b97c-b519a1dff641",
   "metadata": {},
   "outputs": [
    {
     "data": {
      "text/plain": [
       "('A', 100, 30.2, True)"
      ]
     },
     "execution_count": 10,
     "metadata": {},
     "output_type": "execute_result"
    }
   ],
   "source": [
    "t5 = (\"A\",100,30.2,True)\n",
    "t5"
   ]
  },
  {
   "cell_type": "markdown",
   "id": "135101f3",
   "metadata": {
    "slideshow": {
     "slide_type": "slide"
    }
   },
   "source": [
    "## Tuple 연산자\n",
    "\n",
    "-   **tuple + tuple**\n",
    "    -   두 tuple의 원소들을 합친 tuple을 반환한다.\n",
    "-   **tuple \\* 정수**\n",
    "    -   같은 tuple의 원소들을 정수번 합친 tuple를 반환한다.\n",
    "-   **in, not in 연산자**\n",
    "    -   값 in tuple\n",
    "        -   tuple의 원소로 값이 **있으면** True, 없으면 False 반환\n",
    "    -   값 not in tuple\n",
    "        -   tuple의 원소로 값이 **없으면** True, 있으면 False 반환\n",
    "-   **len(tuple)**\n",
    "    -   tuple의 원소 개수 반환\n"
   ]
  },
  {
   "cell_type": "code",
   "execution_count": 14,
   "id": "5903e00f",
   "metadata": {
    "slideshow": {
     "slide_type": "fragment"
    }
   },
   "outputs": [
    {
     "data": {
      "text/plain": [
       "(1, 2, 3, 4, 5, 10, 20, 30, 40, 50)"
      ]
     },
     "execution_count": 14,
     "metadata": {},
     "output_type": "execute_result"
    }
   ],
   "source": [
    "t6 = t1 + t2   # tuple인데, 바뀐것이 아니냐? 할 수 있지만, t1 <-t2 / t1->t2 가 아니라 새로운 리스트가 생성되는것이다.\n",
    "t6"
   ]
  },
  {
   "cell_type": "code",
   "execution_count": 15,
   "id": "63cad712-9743-43d2-ae72-36a7240bec2b",
   "metadata": {},
   "outputs": [
    {
     "data": {
      "text/plain": [
       "(1, 2, 3, 4, 5, 1, 2, 3, 4, 5, 1, 2, 3, 4, 5)"
      ]
     },
     "execution_count": 15,
     "metadata": {},
     "output_type": "execute_result"
    }
   ],
   "source": [
    "t1 * 3"
   ]
  },
  {
   "cell_type": "code",
   "execution_count": 17,
   "id": "4647c0b7-6a74-4579-8faa-5ed3d9cabb00",
   "metadata": {},
   "outputs": [
    {
     "data": {
      "text/plain": [
       "(1, 2, 3, 4, 5)"
      ]
     },
     "execution_count": 17,
     "metadata": {},
     "output_type": "execute_result"
    }
   ],
   "source": [
    "t1   # t1 변경 x "
   ]
  },
  {
   "cell_type": "code",
   "execution_count": 18,
   "id": "3eeaa4be-f6eb-484d-b958-5cb0f4675e1c",
   "metadata": {},
   "outputs": [
    {
     "data": {
      "text/plain": [
       "True"
      ]
     },
     "execution_count": 18,
     "metadata": {},
     "output_type": "execute_result"
    }
   ],
   "source": [
    "1 in t1"
   ]
  },
  {
   "cell_type": "markdown",
   "id": "89803fdd",
   "metadata": {
    "slideshow": {
     "slide_type": "subslide"
    }
   },
   "source": [
    "## Tuple의 주요 메소드\n",
    "\n",
    "| 메소드                        | 설명                                |\n",
    "| :---------------------------- | ----------------------------------- |\n",
    "| index(찾을값 \\[, 시작index\\]) | '찾을값'이 몇번 index인지 반환한다. |\n",
    "| count(값)                     | 원소로 '값'이 몇개 있는지 반환한다. |\n"
   ]
  },
  {
   "cell_type": "code",
   "execution_count": 21,
   "id": "e8e4d78e",
   "metadata": {},
   "outputs": [
    {
     "name": "stdout",
     "output_type": "stream",
     "text": [
      "0\n",
      "3\n"
     ]
    }
   ],
   "source": [
    "t10 = (100,2,500,100,20,4,2)\n",
    "print(t10.index(100))   # 100이 두개인데, 앞에서부터 찾다가 처음만난 시점\n",
    "print(t10.index(100,1))   # 100을 찾아주는데, 1번 index부터 찾아라"
   ]
  },
  {
   "cell_type": "code",
   "execution_count": 22,
   "id": "93a527af",
   "metadata": {
    "slideshow": {
     "slide_type": "fragment"
    }
   },
   "outputs": [
    {
     "data": {
      "text/plain": [
       "2"
      ]
     },
     "execution_count": 22,
     "metadata": {},
     "output_type": "execute_result"
    }
   ],
   "source": [
    "t10.count(100)"
   ]
  },
  {
   "cell_type": "code",
   "execution_count": 25,
   "id": "c740c72d-9840-4d91-a8fb-b3d36df86bf7",
   "metadata": {},
   "outputs": [
    {
     "name": "stdout",
     "output_type": "stream",
     "text": [
      "(2, 4, 20, 100, 500, 2, 100)\n",
      "3\n"
     ]
    }
   ],
   "source": [
    "print(t10[::-1])\n",
    "print(t10[::-1].index(100))"
   ]
  },
  {
   "cell_type": "code",
   "execution_count": 26,
   "id": "7371e8ec-a122-43ab-aaf2-35f8c640fd1c",
   "metadata": {},
   "outputs": [
    {
     "data": {
      "text/plain": [
       "[2, 2, 4, 20, 100, 100, 500]"
      ]
     },
     "execution_count": 26,
     "metadata": {},
     "output_type": "execute_result"
    }
   ],
   "source": [
    "# 정렬 -> sorted() 함수\n",
    "sorted(t10)"
   ]
  },
  {
   "cell_type": "markdown",
   "id": "e6c196f5",
   "metadata": {
    "slideshow": {
     "slide_type": "slide"
    }
   },
   "source": [
    "# Dictionary\n",
    "\n",
    "-   값을 키(key)-값(value) 쌍으로 묶어서 저장하는 자료구조이다.\n",
    "    -   리스트나 튜플의 index의 역할을 하는 key를 직접 지정한다.\n",
    "    -   서로 의미가 다른 값들을 하나로 묶을 때 그 값의 의미를 key로 가질 수 있는 dictionary를 사용한다.\n",
    "        -   cf) 값의 의미가 같을 경우 List나 Tuple을 사용한다.\n",
    "    -   key-value 쌍으로 묶은 데이터 한개를 **item 또는 entry**라고 한다.\n",
    "    -   key는 중복을 허용하지 않고 value는 중복을 허용한다.\n",
    "\n",
    "## Dictionary 생성\n",
    "\n",
    "-   구문\n",
    "    1. `{ 키 : 값, 키 : 값, 키 : 값 }`\n",
    "    2. dict(key=value, key=value) 함수 이용\n",
    "    -   키(key)는 불변(Immutable)의 값들만 사용 가능하다. (숫자, 문자열, 튜플) 일반적으로 문자열을 사용한다.\n",
    "    -   dict() 함수를 사용할 경우 key는 변수로 정의한다\n"
   ]
  },
  {
   "cell_type": "code",
   "execution_count": 28,
   "id": "18611386",
   "metadata": {},
   "outputs": [],
   "source": [
    "# key-value, name-value 차이점 : key값은 서로 중복 x 이지만 name은 서로 중복할 수 도 있다."
   ]
  },
  {
   "cell_type": "code",
   "execution_count": 31,
   "id": "d9d37f28",
   "metadata": {
    "slideshow": {
     "slide_type": "fragment"
    }
   },
   "outputs": [],
   "source": [
    "# 이름 : 홍길동 {키:값} -> item "
   ]
  },
  {
   "cell_type": "code",
   "execution_count": 62,
   "id": "08c0b012-1f98-4ac1-acec-fdc464353597",
   "metadata": {},
   "outputs": [
    {
     "data": {
      "text/plain": [
       "{'이름': '구자현',\n",
       " '나이': 27,\n",
       " '결혼유무': False,\n",
       " '취미': ['영화감상', '축구', '음악감상'],\n",
       " '주소': {'시': '경기도', '구': '수지구'}}"
      ]
     },
     "execution_count": 62,
     "metadata": {},
     "output_type": "execute_result"
    }
   ],
   "source": [
    "d1 = {\"이름\":\"구자현\",\n",
    "     \"나이\":27,\n",
    "     \"결혼유무\":False,\n",
    "     \"취미\":[\"영화감상\",\"축구\",\"음악감상\"],\n",
    "     \"주소\":{\"시\":\"경기도\",\"구\":\"수지구\"}}  # 값이 여러개이면 list로 묶어주기.\n",
    "d1"
   ]
  },
  {
   "cell_type": "code",
   "execution_count": 49,
   "id": "d71bcf76-da5b-4d6a-8dcb-b19c9a526e25",
   "metadata": {},
   "outputs": [
    {
     "data": {
      "text/plain": [
       "{'이름': '구자현', '나이': 27, '주소': '경기도 용인시', '취미': ['영화감상', '축구', '음악감상']}"
      ]
     },
     "execution_count": 49,
     "metadata": {},
     "output_type": "execute_result"
    }
   ],
   "source": [
    "d3 = dict(이름=\"구자현\", 나이=27, 주소='경기도 용인시',취미=[\"영화감상\",\"축구\",\"음악감상\"]) # 키를 변수형태로 설정\n",
    "d3"
   ]
  },
  {
   "cell_type": "markdown",
   "id": "f8c87bd3",
   "metadata": {
    "slideshow": {
     "slide_type": "subslide"
    }
   },
   "source": [
    "## Dictionary 원소 조회 및 변경\n",
    "\n",
    "-   조회: index에 key값을 식별자로 지정한다.\n",
    "    -   dictionary\\[ key \\]\n",
    "    -   없는 키로 조회 시 KeyError 발생\n",
    "-   변경\n",
    "    -   dictionary\\[ key \\] = 값\n",
    "    -   있는 key값에 값을 대입하면 변경이고 없는 key 일 경우는 새로운 item을 추가하는 것이다.\n"
   ]
  },
  {
   "cell_type": "code",
   "execution_count": 50,
   "id": "5c8cec2f",
   "metadata": {},
   "outputs": [
    {
     "name": "stdout",
     "output_type": "stream",
     "text": [
      "{'이름': '구자현', '나이': 27, '결혼유무': False, '취미': ['영화감상', '축구', '음악감상']}\n"
     ]
    }
   ],
   "source": [
    "print(d1)"
   ]
  },
  {
   "cell_type": "code",
   "execution_count": 54,
   "id": "459db630",
   "metadata": {
    "slideshow": {
     "slide_type": "fragment"
    }
   },
   "outputs": [
    {
     "name": "stdout",
     "output_type": "stream",
     "text": [
      "이름: 구자현\n",
      "나이: 27\n"
     ]
    }
   ],
   "source": [
    "# 조회\n",
    "print(\"이름:\",d1[\"이름\"])\n",
    "print(\"나이:\",d1[\"나이\"])"
   ]
  },
  {
   "cell_type": "code",
   "execution_count": 55,
   "id": "ce1832ff-ebe9-49d0-b1f8-08de8e02ffca",
   "metadata": {},
   "outputs": [
    {
     "data": {
      "text/plain": [
       "'축구'"
      ]
     },
     "execution_count": 55,
     "metadata": {},
     "output_type": "execute_result"
    }
   ],
   "source": [
    "d1['취미'][1]"
   ]
  },
  {
   "cell_type": "code",
   "execution_count": 58,
   "id": "fecfa72a-497a-4d3c-a0d8-56c227c56c1c",
   "metadata": {},
   "outputs": [
    {
     "name": "stdout",
     "output_type": "stream",
     "text": [
      "변경된 나이: 26\n"
     ]
    }
   ],
   "source": [
    "# 변경\n",
    "d1['나이'] = 26\n",
    "print(\"변경된 나이:\",d1['나이'])"
   ]
  },
  {
   "cell_type": "code",
   "execution_count": 59,
   "id": "228d736c-04d6-45b0-a35c-e1ecb92550f8",
   "metadata": {},
   "outputs": [
    {
     "ename": "NameError",
     "evalue": "name 'd2' is not defined",
     "output_type": "error",
     "traceback": [
      "\u001b[31m---------------------------------------------------------------------------\u001b[39m",
      "\u001b[31mNameError\u001b[39m                                 Traceback (most recent call last)",
      "\u001b[36mCell\u001b[39m\u001b[36m \u001b[39m\u001b[32mIn[59]\u001b[39m\u001b[32m, line 1\u001b[39m\n\u001b[32m----> \u001b[39m\u001b[32m1\u001b[39m \u001b[43md2\u001b[49m[\u001b[33m'\u001b[39m\u001b[33m전화번호\u001b[39m\u001b[33m'\u001b[39m]\n",
      "\u001b[31mNameError\u001b[39m: name 'd2' is not defined"
     ]
    }
   ],
   "source": [
    "d1['전화번호']"
   ]
  },
  {
   "cell_type": "code",
   "execution_count": 60,
   "id": "12e3057b-846a-43e1-b643-8dfd4ee65e00",
   "metadata": {},
   "outputs": [
    {
     "data": {
      "text/plain": [
       "{'이름': '구자현',\n",
       " '나이': 26,\n",
       " '결혼유무': False,\n",
       " '취미': ['영화감상', '축구', '음악감상'],\n",
       " '전화번호': '010-1234-1234'}"
      ]
     },
     "execution_count": 60,
     "metadata": {},
     "output_type": "execute_result"
    }
   ],
   "source": [
    "# 추가\n",
    "d1['전화번호'] = \"010-1234-1234\"\n",
    "d1"
   ]
  },
  {
   "cell_type": "code",
   "execution_count": 64,
   "id": "41f581da-2413-4c81-b65f-9fc5525b25e0",
   "metadata": {},
   "outputs": [
    {
     "data": {
      "text/plain": [
       "{'이름': '구자현',\n",
       " '나이': 27,\n",
       " '결혼유무': False,\n",
       " '취미': ['영화감상', '축구', '음악감상'],\n",
       " '주소': {'시': '경기도', '구': '수지구', '동': '죽전동'}}"
      ]
     },
     "execution_count": 64,
     "metadata": {},
     "output_type": "execute_result"
    }
   ],
   "source": [
    "# dic추가\n",
    "d1['주소']['동'] = '죽전동'\n",
    "d1"
   ]
  },
  {
   "cell_type": "markdown",
   "id": "d5aade1e",
   "metadata": {
    "slideshow": {
     "slide_type": "slide"
    }
   },
   "source": [
    "## Dictionary 연산자\n",
    "\n",
    "-   **in, not in 연산자**\n",
    "    -   값 in dictionary\n",
    "        -   dictionary의 **Key**로 값이 **있으면** True, 없으면 False 반환\n",
    "    -   값 not in dictionary\n",
    "        -   dictionary의 **Key**로 값이 **없으면** True, 있으면 False 반환\n",
    "-   **len(dictionary)**\n",
    "    -   dictionary의 **Item의 개수** 반환\n"
   ]
  },
  {
   "cell_type": "code",
   "execution_count": 65,
   "id": "71449891",
   "metadata": {},
   "outputs": [
    {
     "data": {
      "text/plain": [
       "5"
      ]
     },
     "execution_count": 65,
     "metadata": {},
     "output_type": "execute_result"
    }
   ],
   "source": [
    "len(d1)"
   ]
  },
  {
   "cell_type": "code",
   "execution_count": 66,
   "id": "4a7c9061",
   "metadata": {
    "slideshow": {
     "slide_type": "fragment"
    }
   },
   "outputs": [
    {
     "data": {
      "text/plain": [
       "{'이름': '구자현',\n",
       " '나이': 27,\n",
       " '결혼유무': False,\n",
       " '취미': ['영화감상', '축구', '음악감상'],\n",
       " '주소': {'시': '경기도', '구': '수지구', '동': '죽전동'}}"
      ]
     },
     "execution_count": 66,
     "metadata": {},
     "output_type": "execute_result"
    }
   ],
   "source": [
    "d1"
   ]
  },
  {
   "cell_type": "code",
   "execution_count": 68,
   "id": "3b5e637c-5c07-470b-8aaf-c779d8e7ad48",
   "metadata": {},
   "outputs": [
    {
     "data": {
      "text/plain": [
       "True"
      ]
     },
     "execution_count": 68,
     "metadata": {},
     "output_type": "execute_result"
    }
   ],
   "source": [
    "\"이름\" in d1  # d1 dic에 key값이 있는지 확인"
   ]
  },
  {
   "cell_type": "code",
   "execution_count": 69,
   "id": "b42e3685-2b14-4825-97a2-805a2a88f444",
   "metadata": {},
   "outputs": [
    {
     "data": {
      "text/plain": [
       "{'이름': '구자현',\n",
       " '나이': 27,\n",
       " '결혼유무': False,\n",
       " '취미': ['영화감상', '축구', '음악감상'],\n",
       " '주소': {'시': '경기도', '구': '수지구', '동': '죽전동'},\n",
       " '전화번호': '010-1234-1234'}"
      ]
     },
     "execution_count": 69,
     "metadata": {},
     "output_type": "execute_result"
    }
   ],
   "source": [
    "d1['전화번호'] = \"010-1234-1234\"\n",
    "d1"
   ]
  },
  {
   "cell_type": "markdown",
   "id": "9f620ec1",
   "metadata": {
    "slideshow": {
     "slide_type": "slide"
    }
   },
   "source": [
    "## Dictionary 주요 메소드\n",
    "\n",
    "| 메소드               | 설명                                                                               |\n",
    "| :------------------- | ---------------------------------------------------------------------------------- |\n",
    "| get(key\\[, 기본값\\]) | key의 item의 값을 반환한다. 단 key가 없을 경우 None또는 기본값을 반환한다.         |\n",
    "| pop(key)             | key의 item의 값을 반환하면서 dictionary에서 삭제한다. 없는 key일 경우 KeyError발생 |\n",
    "| clear()              | dictionary의 모든 item들을 삭제한다.                                               |\n",
    "| del dict\\[key\\]      | key의 item을 제거한다.                                                             |\n",
    "| items()              | item의 key, value를 튜플로 묶어 모아 반환한다.                                     |\n",
    "| keys()               | key값들만 모아 반환한다.                                                           |\n",
    "| values()             | value값들만 모아 반환한다.                                                         |\n"
   ]
  },
  {
   "cell_type": "code",
   "execution_count": 72,
   "id": "c290cb20-502a-489f-bdcd-afefa426e83a",
   "metadata": {},
   "outputs": [
    {
     "data": {
      "text/plain": [
       "{'이름': '구자현',\n",
       " '나이': 27,\n",
       " '결혼유무': False,\n",
       " '취미': ['영화감상', '축구', '음악감상'],\n",
       " '주소': {'시': '경기도', '구': '수지구', '동': '죽전동'},\n",
       " '전화번호': '010-1234-1234'}"
      ]
     },
     "execution_count": 72,
     "metadata": {},
     "output_type": "execute_result"
    }
   ],
   "source": [
    "d1"
   ]
  },
  {
   "cell_type": "code",
   "execution_count": 71,
   "id": "55f208b6",
   "metadata": {},
   "outputs": [
    {
     "data": {
      "text/plain": [
       "'구자현'"
      ]
     },
     "execution_count": 71,
     "metadata": {},
     "output_type": "execute_result"
    }
   ],
   "source": [
    "# d1['키'] 조회\n",
    "d1.get(\"이름\") # key로 value 조회"
   ]
  },
  {
   "cell_type": "code",
   "execution_count": 75,
   "id": "d0f8e00a-d438-4d21-925e-de3637a61cc8",
   "metadata": {},
   "outputs": [
    {
     "name": "stdout",
     "output_type": "stream",
     "text": [
      "None\n"
     ]
    }
   ],
   "source": [
    "r = d1.get(\"키\")   # 없는 key로 조회하면 기본값을 반환. (default 기본값:None)\n",
    "r         # 없는 상태 그대로 출력하므로 아무것도 나타나지않음.\n",
    "print(r)  # 없는걸 문자로 변경해서 출력 , None을 문자로 바꿔서 \"None\"으로 출력 "
   ]
  },
  {
   "cell_type": "code",
   "execution_count": 76,
   "id": "8ca615f2-092f-4afd-84ce-e6f39de391f0",
   "metadata": {},
   "outputs": [
    {
     "data": {
      "text/plain": [
       "'없는 key'"
      ]
     },
     "execution_count": 76,
     "metadata": {},
     "output_type": "execute_result"
    }
   ],
   "source": [
    "r = d1.get(\"키\")\n",
    "r if r != None else \"없는 key\""
   ]
  },
  {
   "cell_type": "code",
   "execution_count": 78,
   "id": "980e17bd-4d7f-4d64-9b46-e9a1140be815",
   "metadata": {},
   "outputs": [
    {
     "data": {
      "text/plain": [
       "'없는 key'"
      ]
     },
     "execution_count": 78,
     "metadata": {},
     "output_type": "execute_result"
    }
   ],
   "source": [
    "# None -bool -> false\n",
    "r if r else \"없는 key\"   # r 자체는 출력되지않는 None "
   ]
  },
  {
   "cell_type": "code",
   "execution_count": 79,
   "id": "1ecb125a-31ab-4d7c-85ad-42271eef53df",
   "metadata": {},
   "outputs": [
    {
     "data": {
      "text/plain": [
       "True"
      ]
     },
     "execution_count": 79,
     "metadata": {},
     "output_type": "execute_result"
    }
   ],
   "source": [
    "r is None"
   ]
  },
  {
   "cell_type": "code",
   "execution_count": 80,
   "id": "350e7ad5",
   "metadata": {
    "slideshow": {
     "slide_type": "fragment"
    }
   },
   "outputs": [
    {
     "data": {
      "text/plain": [
       "'없는 key'"
      ]
     },
     "execution_count": 80,
     "metadata": {},
     "output_type": "execute_result"
    }
   ],
   "source": [
    "r if r is not None else \"없는 key\""
   ]
  },
  {
   "cell_type": "code",
   "execution_count": 84,
   "id": "8540ec4e-b5a9-40c0-827a-a8a29de2dff3",
   "metadata": {},
   "outputs": [],
   "source": [
    "d1.get(\"몸무게\")   # '몸무게'라는 key가 없어서 default 값이 나온다. 그러나 default가 None으로 설정되어있기때문에 아무런 것도 출력 x"
   ]
  },
  {
   "cell_type": "code",
   "execution_count": 85,
   "id": "ec0e6871-2e5b-4e8d-adbe-c411c6cb489c",
   "metadata": {},
   "outputs": [
    {
     "data": {
      "text/plain": [
       "0"
      ]
     },
     "execution_count": 85,
     "metadata": {},
     "output_type": "execute_result"
    }
   ],
   "source": [
    "d1.get(\"몸무게\", 0)  # key가 없으면 지정한 기본 값(0)을 반환 "
   ]
  },
  {
   "cell_type": "code",
   "execution_count": 89,
   "id": "92981105-4af4-442f-991b-793bcf516e6e",
   "metadata": {},
   "outputs": [
    {
     "data": {
      "text/plain": [
       "['영화감상', '축구', '음악감상']"
      ]
     },
     "execution_count": 89,
     "metadata": {},
     "output_type": "execute_result"
    }
   ],
   "source": [
    "d1.get(\"취미\")   # d1.get(\"취미\",[])  -> 있는지 없는지 모르니까 없다면 []반환 (error 방지) "
   ]
  },
  {
   "cell_type": "code",
   "execution_count": 93,
   "id": "9eafca71-e457-49be-98d4-fcf5b4ccdcfb",
   "metadata": {},
   "outputs": [
    {
     "data": {
      "text/plain": [
       "{'이름': '구자현',\n",
       " '나이': 27,\n",
       " '취미': ['영화감상', '축구', '음악감상'],\n",
       " '주소': {'시': '경기도', '구': '수지구', '동': '죽전동'},\n",
       " '전화번호': '010-1234-1234'}"
      ]
     },
     "execution_count": 93,
     "metadata": {},
     "output_type": "execute_result"
    }
   ],
   "source": [
    "# 추가 -> d1['주소'] = \"서울\"\n",
    "# 삭제 \n",
    "del d1[\"결혼유무\"]\n",
    "d1"
   ]
  },
  {
   "cell_type": "code",
   "execution_count": 97,
   "id": "49b26356-2e17-4cf1-9aaa-befdb37000c6",
   "metadata": {},
   "outputs": [
    {
     "data": {
      "text/plain": [
       "{'이름': '구자현',\n",
       " '취미': ['영화감상', '축구', '음악감상'],\n",
       " '주소': {'시': '경기도', '구': '수지구', '동': '죽전동'},\n",
       " '전화번호': '010-1234-1234',\n",
       " '나이': 27}"
      ]
     },
     "execution_count": 97,
     "metadata": {},
     "output_type": "execute_result"
    }
   ],
   "source": [
    "d1[\"나이\"] = 27\n",
    "d1"
   ]
  },
  {
   "cell_type": "code",
   "execution_count": 98,
   "id": "ba50bf9d-4405-44ad-a59e-a6c6e1d06fdd",
   "metadata": {},
   "outputs": [
    {
     "data": {
      "text/plain": [
       "27"
      ]
     },
     "execution_count": 98,
     "metadata": {},
     "output_type": "execute_result"
    }
   ],
   "source": [
    "v = d1.pop(\"나이\")   # dic에서 삭제하면서 나는 이것을 다른 변수로 사용하겠다.\n",
    "v"
   ]
  },
  {
   "cell_type": "code",
   "execution_count": 99,
   "id": "02e69b5c-f17d-4980-8b19-bb4043cefaf9",
   "metadata": {},
   "outputs": [],
   "source": [
    "# 전체 제거 -> d1.clear()"
   ]
  },
  {
   "cell_type": "code",
   "execution_count": 104,
   "id": "0820525f-8a91-431e-a0e5-051ea9707eae",
   "metadata": {},
   "outputs": [
    {
     "name": "stdout",
     "output_type": "stream",
     "text": [
      "dict_keys(['이름', '취미', '주소', '전화번호'])\n",
      "dict_values(['구자현', ['영화감상', '축구', '음악감상'], {'시': '경기도', '구': '수지구', '동': '죽전동'}, '010-1234-1234'])\n"
     ]
    }
   ],
   "source": [
    "# 키값들만 모아서 조회 \n",
    "keys = d1.keys()\n",
    "print(keys)   # list 형식\n",
    "\n",
    "# 값들만 모아서 조회\n",
    "values = d1.values()\n",
    "print(values)"
   ]
  },
  {
   "cell_type": "code",
   "execution_count": 108,
   "id": "d3f84568-c143-4cb0-8071-26adda0ef8a5",
   "metadata": {},
   "outputs": [
    {
     "data": {
      "text/plain": [
       "{'이름': '구자현',\n",
       " '취미': ['영화감상', '축구', '음악감상'],\n",
       " '주소': {'시': '경기도', '구': '수지구', '동': '죽전동'},\n",
       " '전화번호': '010-1234-1234'}"
      ]
     },
     "execution_count": 108,
     "metadata": {},
     "output_type": "execute_result"
    }
   ],
   "source": [
    "d1"
   ]
  },
  {
   "cell_type": "code",
   "execution_count": 107,
   "id": "73227666-0e6f-4999-9a5e-8074f051ae21",
   "metadata": {},
   "outputs": [
    {
     "data": {
      "text/plain": [
       "dict_items([('이름', '구자현'), ('취미', ['영화감상', '축구', '음악감상']), ('주소', {'시': '경기도', '구': '수지구', '동': '죽전동'}), ('전화번호', '010-1234-1234')])"
      ]
     },
     "execution_count": 107,
     "metadata": {},
     "output_type": "execute_result"
    }
   ],
   "source": [
    "# key-value 모아서 반환 .item: (key,value)\n",
    "items = d1.items()\n",
    "items # list안에 tuple로 반환"
   ]
  },
  {
   "cell_type": "markdown",
   "id": "d97869af",
   "metadata": {
    "slideshow": {
     "slide_type": "slide"
    }
   },
   "source": [
    "# Set\n",
    "\n",
    "-   Set은 중복되는 값을 허용하지 않고 순서를 신경 쓰지 않는다.\n",
    "    -   원소를 식별할 수 있는 식별자가 없기 때문에 Set은 indexing과 slicing을 지원하지 않는다\n",
    "\n",
    "## Set 생성\n",
    "\n",
    "-   구문\n",
    "    -   {값, 값, 값 }\n",
    "\n",
    "> -   빈 Dictionary 만들기\n",
    ">     -   info = {}\n",
    ">     -   중괄호만 사용하면 빈 set이 아니라 빈 dictionary를 생성하는 것임.\n"
   ]
  },
  {
   "cell_type": "code",
   "execution_count": 110,
   "id": "304f16ea",
   "metadata": {},
   "outputs": [
    {
     "data": {
      "text/plain": [
       "{1, 2, 3, 4, 5, 6}"
      ]
     },
     "execution_count": 110,
     "metadata": {},
     "output_type": "execute_result"
    }
   ],
   "source": [
    "s1 = {1,2,3,4,5,6}   # set \n",
    "s1"
   ]
  },
  {
   "cell_type": "code",
   "execution_count": 113,
   "id": "08dff9ee-5552-4713-9293-49d738cf2b9c",
   "metadata": {},
   "outputs": [
    {
     "data": {
      "text/plain": [
       "{1, 2, 3, 4}"
      ]
     },
     "execution_count": 113,
     "metadata": {},
     "output_type": "execute_result"
    }
   ],
   "source": [
    "s2 = {1,2,1,1,1,1,1,2,2,2,2,2,2,2,3,3,3,4,4,4,3,3,3,3,2,2}\n",
    "s2 # 중복된 값 허락 x "
   ]
  },
  {
   "cell_type": "code",
   "execution_count": 115,
   "id": "774af75c-98d7-426f-9600-8acce2c1e950",
   "metadata": {},
   "outputs": [
    {
     "ename": "TypeError",
     "evalue": "'set' object is not subscriptable",
     "output_type": "error",
     "traceback": [
      "\u001b[31m---------------------------------------------------------------------------\u001b[39m",
      "\u001b[31mTypeError\u001b[39m                                 Traceback (most recent call last)",
      "\u001b[36mCell\u001b[39m\u001b[36m \u001b[39m\u001b[32mIn[115]\u001b[39m\u001b[32m, line 1\u001b[39m\n\u001b[32m----> \u001b[39m\u001b[32m1\u001b[39m \u001b[43ms1\u001b[49m\u001b[43m[\u001b[49m\u001b[32;43m0\u001b[39;49m\u001b[43m]\u001b[49m\n\u001b[32m      2\u001b[39m \u001b[38;5;66;03m# TypeError: 'set'object is not subscriptable , 인덱스가 없어서 error\u001b[39;00m\n",
      "\u001b[31mTypeError\u001b[39m: 'set' object is not subscriptable"
     ]
    }
   ],
   "source": [
    "s1[0]\n",
    "# TypeError: 'set'object is not subscriptable , 인덱스가 없어서 error"
   ]
  },
  {
   "cell_type": "code",
   "execution_count": 117,
   "id": "7b63ada7-5816-46f1-a223-a2c31a7071f5",
   "metadata": {},
   "outputs": [
    {
     "name": "stdout",
     "output_type": "stream",
     "text": [
      "1\n",
      "2\n",
      "3\n",
      "4\n",
      "5\n",
      "6\n"
     ]
    }
   ],
   "source": [
    "for v in s1:\n",
    "    print(v)"
   ]
  },
  {
   "cell_type": "code",
   "execution_count": null,
   "id": "5c88480a",
   "metadata": {
    "slideshow": {
     "slide_type": "fragment"
    }
   },
   "outputs": [],
   "source": []
  },
  {
   "cell_type": "markdown",
   "id": "79cf0f20",
   "metadata": {
    "slideshow": {
     "slide_type": "slide"
    }
   },
   "source": [
    "## Set 연산자\n",
    "\n",
    "-   **in, not in 연산자**\n",
    "    -   값 in Set\n",
    "        -   Set의 원소로 값이 **있으면** True, 없으면 False 반환\n",
    "    -   값 not in Set\n",
    "        -   Set의 원소로 값이 **없으면** True, 있으면 False 반환\n",
    "-   **len(Set)**\n",
    "    -   Set의 **원소의 개수** 반환\n",
    "-   **[집합연산자](#Set의-집합연산-연산자-및-메소드)**\n"
   ]
  },
  {
   "cell_type": "code",
   "execution_count": 119,
   "id": "1c530013",
   "metadata": {},
   "outputs": [
    {
     "data": {
      "text/plain": [
       "6"
      ]
     },
     "execution_count": 119,
     "metadata": {},
     "output_type": "execute_result"
    }
   ],
   "source": [
    "len(s1)"
   ]
  },
  {
   "cell_type": "code",
   "execution_count": 120,
   "id": "80be18ad",
   "metadata": {
    "slideshow": {
     "slide_type": "fragment"
    }
   },
   "outputs": [
    {
     "data": {
      "text/plain": [
       "False"
      ]
     },
     "execution_count": 120,
     "metadata": {},
     "output_type": "execute_result"
    }
   ],
   "source": [
    "5 not in s1"
   ]
  },
  {
   "cell_type": "markdown",
   "id": "080c2a17",
   "metadata": {
    "slideshow": {
     "slide_type": "slide"
    }
   },
   "source": [
    "## Set의 주요 메소드\n",
    "\n",
    "| 메소드           | 설명                                   |\n",
    "| ---------------- | -------------------------------------- |\n",
    "| add(값)          | 집합에 값 추가                         |\n",
    "| update(자료구조) | 자료구조내의 원소들을 모두 집합에 추가 |\n",
    "| pop()            | 원소를 반환하고 Set에서 삭제한다.      |\n",
    "| remove(값)       | 값을 찾아서 Set에서 삭제한다.          |\n"
   ]
  },
  {
   "cell_type": "code",
   "execution_count": 121,
   "id": "6ec0eee0",
   "metadata": {},
   "outputs": [
    {
     "data": {
      "text/plain": [
       "{1, 2, 3, 4, 5, 6}"
      ]
     },
     "execution_count": 121,
     "metadata": {},
     "output_type": "execute_result"
    }
   ],
   "source": [
    "s1"
   ]
  },
  {
   "cell_type": "code",
   "execution_count": 122,
   "id": "b12f08b0",
   "metadata": {
    "slideshow": {
     "slide_type": "fragment"
    }
   },
   "outputs": [
    {
     "data": {
      "text/plain": [
       "{1, 2, 3, 4, 5, 6, 100}"
      ]
     },
     "execution_count": 122,
     "metadata": {},
     "output_type": "execute_result"
    }
   ],
   "source": [
    "s1.add(100)\n",
    "s1"
   ]
  },
  {
   "cell_type": "code",
   "execution_count": 125,
   "id": "63ad9cab-da39-4a51-8f0b-38f49a075a55",
   "metadata": {},
   "outputs": [
    {
     "data": {
      "text/plain": [
       "{1, 2, 3, 4, 5, 6, 100}"
      ]
     },
     "execution_count": 125,
     "metadata": {},
     "output_type": "execute_result"
    }
   ],
   "source": [
    "s1.add(3)  # 중복된 값은 추가하지 않는다.\n",
    "s1"
   ]
  },
  {
   "cell_type": "code",
   "execution_count": 127,
   "id": "6801b2a0-e8cb-467b-ac2a-bc884c6b9b6b",
   "metadata": {},
   "outputs": [
    {
     "data": {
      "text/plain": [
       "{1, 2, 3, 4, 5, 6, 100, 200, 300, 400}"
      ]
     },
     "execution_count": 127,
     "metadata": {},
     "output_type": "execute_result"
    }
   ],
   "source": [
    "s1.update([200,300,400,400,400,100,100,100])\n",
    "s1"
   ]
  },
  {
   "cell_type": "code",
   "execution_count": 128,
   "id": "c15ccf5f-d601-4995-ab3b-967556cbeba1",
   "metadata": {},
   "outputs": [
    {
     "data": {
      "text/plain": [
       "{1, 2, 3, 4, 5, 6, 200, 300, 400}"
      ]
     },
     "execution_count": 128,
     "metadata": {},
     "output_type": "execute_result"
    }
   ],
   "source": [
    "s1.remove(100) # 100을 찾아서 삭제 \n",
    "s1"
   ]
  },
  {
   "cell_type": "code",
   "execution_count": 130,
   "id": "d4ee279f-924d-4f57-b734-0408f5284f3d",
   "metadata": {},
   "outputs": [
    {
     "ename": "KeyError",
     "evalue": "100",
     "output_type": "error",
     "traceback": [
      "\u001b[31m---------------------------------------------------------------------------\u001b[39m",
      "\u001b[31mKeyError\u001b[39m                                  Traceback (most recent call last)",
      "\u001b[36mCell\u001b[39m\u001b[36m \u001b[39m\u001b[32mIn[130]\u001b[39m\u001b[32m, line 1\u001b[39m\n\u001b[32m----> \u001b[39m\u001b[32m1\u001b[39m \u001b[43ms1\u001b[49m\u001b[43m.\u001b[49m\u001b[43mremove\u001b[49m\u001b[43m(\u001b[49m\u001b[32;43m100\u001b[39;49m\u001b[43m)\u001b[49m  \u001b[38;5;66;03m# 지울게 없으므로 error 발생\u001b[39;00m\n",
      "\u001b[31mKeyError\u001b[39m: 100"
     ]
    }
   ],
   "source": [
    "s1.remove(100)  # 지울게 없으므로 error 발생"
   ]
  },
  {
   "cell_type": "code",
   "execution_count": 131,
   "id": "4128d14e-6cbb-4009-9cae-c2da990ac15c",
   "metadata": {},
   "outputs": [
    {
     "name": "stdout",
     "output_type": "stream",
     "text": [
      "{1, 2, 3, 4, 5, 6, 200, 400, 300}\n",
      "1\n"
     ]
    }
   ],
   "source": [
    "print(s1)\n",
    "print(s1.pop())  # 맨 앞에 것을 지움 "
   ]
  },
  {
   "cell_type": "code",
   "execution_count": 132,
   "id": "904b793d-d058-403a-b9e3-77f20b94b01d",
   "metadata": {},
   "outputs": [
    {
     "data": {
      "text/plain": [
       "{2, 3, 4, 5, 6, 200, 300, 400}"
      ]
     },
     "execution_count": 132,
     "metadata": {},
     "output_type": "execute_result"
    }
   ],
   "source": [
    "s1"
   ]
  },
  {
   "cell_type": "code",
   "execution_count": 133,
   "id": "e93d4952-04fd-4c60-8bc4-44fdbe7ec802",
   "metadata": {},
   "outputs": [
    {
     "data": {
      "text/plain": [
       "set()"
      ]
     },
     "execution_count": 133,
     "metadata": {},
     "output_type": "execute_result"
    }
   ],
   "source": [
    "s1.clear()\n",
    "s1"
   ]
  },
  {
   "cell_type": "code",
   "execution_count": 134,
   "id": "9eb1479d-44b7-4330-ac36-36200e3fcd28",
   "metadata": {},
   "outputs": [
    {
     "data": {
      "text/plain": [
       "(dict, set)"
      ]
     },
     "execution_count": 134,
     "metadata": {},
     "output_type": "execute_result"
    }
   ],
   "source": [
    "type({}), type(set())"
   ]
  },
  {
   "cell_type": "markdown",
   "id": "33d115cd",
   "metadata": {
    "slideshow": {
     "slide_type": "subslide"
    }
   },
   "source": [
    "## Set의 집합연산 연산자 및 메소드\n",
    "\n",
    "-   합집합\n",
    "    -   집합A | 집합B\n",
    "    -   집합A.union(집합B)\n",
    "-   교집합\n",
    "    -   집합A & 집합B\n",
    "    -   집합A.intersection(집합B)\n",
    "-   차집합\n",
    "    -   집합A - 집합B\n",
    "    -   집합A.difference(집합B)\n"
   ]
  },
  {
   "cell_type": "code",
   "execution_count": 141,
   "id": "d2a32b55",
   "metadata": {},
   "outputs": [],
   "source": [
    "s1 = {1,2,3,4}\n",
    "s2 = {3,4,5,6}"
   ]
  },
  {
   "cell_type": "code",
   "execution_count": 137,
   "id": "e2d43f89",
   "metadata": {},
   "outputs": [
    {
     "name": "stdout",
     "output_type": "stream",
     "text": [
      "{1, 2, 3, 4, 5, 6}\n",
      "{1, 2, 3, 4, 5, 6}\n"
     ]
    }
   ],
   "source": [
    "print(s1| s2)\n",
    "print(s1.union(s2))"
   ]
  },
  {
   "cell_type": "code",
   "execution_count": 139,
   "id": "0a6e49d6-3972-4692-8892-596eb26d2981",
   "metadata": {},
   "outputs": [
    {
     "name": "stdout",
     "output_type": "stream",
     "text": [
      "{3, 4}\n",
      "{3, 4}\n"
     ]
    }
   ],
   "source": [
    "print(s1 & s2)\n",
    "print(s1.intersection(s2))"
   ]
  },
  {
   "cell_type": "code",
   "execution_count": 140,
   "id": "62d8ec3a-1d1b-4b1f-83f1-a5e7cbed87bf",
   "metadata": {},
   "outputs": [
    {
     "name": "stdout",
     "output_type": "stream",
     "text": [
      "{1, 2}\n",
      "{1, 2}\n"
     ]
    }
   ],
   "source": [
    "print(s1-s2)\n",
    "print(s1.difference(s2))"
   ]
  },
  {
   "cell_type": "markdown",
   "id": "17bf4f71",
   "metadata": {},
   "source": [
    "# 자료구조를 이용한 대입\n",
    "\n",
    "-   리스트, 튜플, 셋의 원소들을 개별 변수에 대입한다. 어느 자료구조에 적용하느냐에 따라 **리스트 대입, 튜플 대입, 셋 대입** 이라고 한다. 이중 리스트대입이나 튜플대입은 많이 사용된다.\n",
    "-   변수의 개수와 리스트 원소의 개수는 동일해야 한다.\n"
   ]
  },
  {
   "cell_type": "code",
   "execution_count": 142,
   "id": "73b925bb",
   "metadata": {},
   "outputs": [],
   "source": [
    "a = 10\n",
    "b = 20 \n",
    "c = 30\n",
    "d = \"가\""
   ]
  },
  {
   "cell_type": "code",
   "execution_count": 147,
   "id": "64bf5839",
   "metadata": {
    "slideshow": {
     "slide_type": "fragment"
    }
   },
   "outputs": [],
   "source": [
    "a,b,c,d = 10,20,30,'가'  # 변수 나열해서 값 설정 -> 튜플 대입"
   ]
  },
  {
   "cell_type": "code",
   "execution_count": 145,
   "id": "e8852492-e06a-42a3-bcc6-6a2b90efb159",
   "metadata": {},
   "outputs": [
    {
     "name": "stdout",
     "output_type": "stream",
     "text": [
      "10 20 30 가\n"
     ]
    }
   ],
   "source": [
    "print(a,b,c,d)"
   ]
  },
  {
   "cell_type": "code",
   "execution_count": 148,
   "id": "bfc3d521-6543-44e0-9213-f9ecc0c3e896",
   "metadata": {},
   "outputs": [
    {
     "name": "stdout",
     "output_type": "stream",
     "text": [
      "True False True\n"
     ]
    }
   ],
   "source": [
    "x,y,z = [True,False,True]   # 리스트 대입\n",
    "print(x,y,z)"
   ]
  },
  {
   "cell_type": "code",
   "execution_count": 152,
   "id": "cdab659f-8018-4a65-b56d-dad22bd75558",
   "metadata": {},
   "outputs": [
    {
     "name": "stdout",
     "output_type": "stream",
     "text": [
      "200 100 400 300\n"
     ]
    }
   ],
   "source": [
    "l, m, n, o = {100,200,300,400}  # 셋 대입 , 순서 없이 랜덤으로 대입하므로 순서가 달라져서 나옴\n",
    "print(l,m,n,o)"
   ]
  },
  {
   "cell_type": "code",
   "execution_count": 153,
   "id": "a275c333-80d4-4511-84f7-fe8f4a930c5e",
   "metadata": {},
   "outputs": [],
   "source": [
    "l1 = [10,20,30]"
   ]
  },
  {
   "cell_type": "code",
   "execution_count": 155,
   "id": "97296997-7aa9-4771-9af3-543d1c8369d4",
   "metadata": {},
   "outputs": [],
   "source": [
    "x1,x2,x3 = l1    # 튜플이나 리스트나 셋대입이든 별 차이없지만, 내가 list형태를 각각의 변수명으로 나누고 싶다할 때"
   ]
  },
  {
   "cell_type": "markdown",
   "id": "a3778f41",
   "metadata": {
    "slideshow": {
     "slide_type": "slide"
    }
   },
   "source": [
    "# 자료구조 변환 함수\n",
    "\n",
    "-   **list(자료구조)**\n",
    "    -   대상 자료구조/Iterable을 List로 변환한다.\n",
    "-   **tuple(자료구조)**\n",
    "    -   대상 자료구조/Iterable을 Tuple로 변환\n",
    "-   **set(자료구조)**\n",
    "    -   대상 자료구조/Iterable을 Set으로 변환\n",
    "    -   다른 자료구조의 원소 중 중복을 빼고 조회할 때 set()를 이용해 Set으로 변환한다.\n",
    "-   Dictionary로 변환하는 함수는 없다.\n",
    "    -   dict(key=value, ..) 는 딕셔너리 생성하는 함수이다.\n",
    "-   변경 대상이 Dictionary 일 경우에는 key값들만 모아서 변환한다.\n",
    "\n",
    "> -   **Iterable**\n",
    ">     -   반복가능한 객체.\n",
    ">     -   여러개의 값을 요청을 받을 때마다 하나씩 제공해주는 타입을 iterable 이라고 함.\n",
    ">         -   Iterable이 제공하는 값을 반복문을 이용해 조회할 경우 **for in문**을 사용한다.\n",
    ">     -   대표적으로 자료구조, 문자열 등이 있다.\n"
   ]
  },
  {
   "cell_type": "code",
   "execution_count": 156,
   "id": "07fd6373",
   "metadata": {
    "slideshow": {
     "slide_type": "fragment"
    }
   },
   "outputs": [
    {
     "name": "stdout",
     "output_type": "stream",
     "text": [
      "<class 'list'>\n"
     ]
    }
   ],
   "source": [
    "l = [1,2,3,4,5,6]\n",
    "print(type(l))"
   ]
  },
  {
   "cell_type": "code",
   "execution_count": 194,
   "id": "875f6f86-9859-4442-b778-abb7b6e15d33",
   "metadata": {},
   "outputs": [
    {
     "name": "stdout",
     "output_type": "stream",
     "text": [
      "----------------------------------------\n"
     ]
    }
   ],
   "source": [
    "print('-'*40)"
   ]
  },
  {
   "cell_type": "code",
   "execution_count": 195,
   "id": "fd1a7760-7bc3-42fe-a9bd-2d93d4c64c03",
   "metadata": {},
   "outputs": [
    {
     "data": {
      "text/plain": [
       "[1, 2, 3, 2, 1, 1, 2, 6, 7, 100]"
      ]
     },
     "execution_count": 195,
     "metadata": {},
     "output_type": "execute_result"
    }
   ],
   "source": [
    "# Iterable 타입 확인\n",
    "l"
   ]
  },
  {
   "cell_type": "code",
   "execution_count": 175,
   "id": "f7166bb8-ed80-47ec-b524-f1b2317321d8",
   "metadata": {},
   "outputs": [
    {
     "name": "stdout",
     "output_type": "stream",
     "text": [
      "1\n",
      "2\n",
      "3\n",
      "2\n",
      "1\n",
      "1\n",
      "2\n",
      "6\n",
      "7\n",
      "100\n"
     ]
    }
   ],
   "source": [
    "for v in l:    # 반복해서 조회 가능, (list,set,tuple) -> Iterable 타입\n",
    "    print(v)"
   ]
  },
  {
   "cell_type": "code",
   "execution_count": 183,
   "id": "527cb097-cb23-4e55-851a-4c5d8a2b4b47",
   "metadata": {},
   "outputs": [
    {
     "name": "stdout",
     "output_type": "stream",
     "text": [
      "['a', 'b', 'c', 'd', 'e', 'f', 'g']\n",
      "a\n",
      "b\n",
      "c\n",
      "d\n",
      "e\n",
      "f\n"
     ]
    }
   ],
   "source": [
    "print(list(\"abcdefg\"))\n",
    "\n",
    "# 문자열 자체도 Iterable타입\n",
    "for v in \"abcdef\":\n",
    "    print(v)    "
   ]
  },
  {
   "cell_type": "code",
   "execution_count": 192,
   "id": "92a537f9-a961-4b7e-b8a4-dfaa90403262",
   "metadata": {},
   "outputs": [
    {
     "name": "stdout",
     "output_type": "stream",
     "text": [
      "{'안', '요', '하', '세', '녕', '.'}\n",
      "안\n",
      "요\n",
      "하\n",
      "세\n",
      "녕\n",
      ".\n"
     ]
    }
   ],
   "source": [
    "print(set(\"안녕안녕안녕하세요.\"))  # 문자열 타입, set으로 해도 iterable타입\n",
    "for v in set(\"안녕안녕안녕하세요.\"):\n",
    "    print(v)"
   ]
  },
  {
   "cell_type": "code",
   "execution_count": 202,
   "id": "4e6d00c2-e38e-451d-be20-f2f54fe5cdf2",
   "metadata": {},
   "outputs": [
    {
     "data": {
      "text/plain": [
       "['a', 'b', 'c', 'd', 'e', 'f', 'g']"
      ]
     },
     "execution_count": 202,
     "metadata": {},
     "output_type": "execute_result"
    }
   ],
   "source": [
    "l = list(\"abcdefg\") \n",
    "l  # 문자열로 출력"
   ]
  },
  {
   "cell_type": "code",
   "execution_count": 203,
   "id": "56ac9817-2b96-41ce-99a6-6be63ba6a377",
   "metadata": {},
   "outputs": [
    {
     "data": {
      "text/plain": [
       "'abcdefg'"
      ]
     },
     "execution_count": 203,
     "metadata": {},
     "output_type": "execute_result"
    }
   ],
   "source": [
    "# 자료구조의 문자열들을 한 문자열로 합치기\n",
    "## \"구분자\".join(합칠대상_iterable)\n",
    "\"\".join(l)"
   ]
  },
  {
   "cell_type": "code",
   "execution_count": 193,
   "id": "e9597e74-29a9-4827-8a2a-9544368424a1",
   "metadata": {},
   "outputs": [
    {
     "name": "stdout",
     "output_type": "stream",
     "text": [
      "----------------------------------------\n"
     ]
    }
   ],
   "source": [
    "print('-'*40)"
   ]
  },
  {
   "cell_type": "code",
   "execution_count": 157,
   "id": "379985b4-a915-4898-a349-6dab32feac18",
   "metadata": {},
   "outputs": [
    {
     "data": {
      "text/plain": [
       "(1, 2, 3, 4, 5, 6)"
      ]
     },
     "execution_count": 157,
     "metadata": {},
     "output_type": "execute_result"
    }
   ],
   "source": [
    "t = tuple(l)\n",
    "t"
   ]
  },
  {
   "cell_type": "code",
   "execution_count": 159,
   "id": "2becbe26-cd58-42da-9ab9-cb6c0e57f8ba",
   "metadata": {},
   "outputs": [
    {
     "data": {
      "text/plain": [
       "{1, 2, 3, 4, 5, 6}"
      ]
     },
     "execution_count": 159,
     "metadata": {},
     "output_type": "execute_result"
    }
   ],
   "source": [
    "s = set(t)\n",
    "s"
   ]
  },
  {
   "cell_type": "code",
   "execution_count": 160,
   "id": "06f8d14b-899e-40e0-885c-e746c51efafc",
   "metadata": {},
   "outputs": [
    {
     "data": {
      "text/plain": [
       "[1, 2, 3, 4, 5, 6]"
      ]
     },
     "execution_count": 160,
     "metadata": {},
     "output_type": "execute_result"
    }
   ],
   "source": [
    "l2 = list(s)\n",
    "l2"
   ]
  },
  {
   "cell_type": "code",
   "execution_count": 162,
   "id": "01e221a7-ff02-4f52-bccc-f84d3f4660a2",
   "metadata": {},
   "outputs": [
    {
     "data": {
      "text/plain": [
       "{1, 2, 3, 6, 7, 100}"
      ]
     },
     "execution_count": 162,
     "metadata": {},
     "output_type": "execute_result"
    }
   ],
   "source": [
    "l = [1,2,3,2,1,1,2,6,7,100]\n",
    "s = set(l)   # 고유값만 확인 \n",
    "s"
   ]
  },
  {
   "cell_type": "code",
   "execution_count": 163,
   "id": "3ed7312a-344a-494a-9205-0bf53909eb03",
   "metadata": {},
   "outputs": [
    {
     "data": {
      "text/plain": [
       "[1, 2, 3, 100, 6, 7]"
      ]
     },
     "execution_count": 163,
     "metadata": {},
     "output_type": "execute_result"
    }
   ],
   "source": [
    "l_unique = list(s)\n",
    "l_unique"
   ]
  },
  {
   "cell_type": "code",
   "execution_count": 167,
   "id": "9629a646-cb4a-46f3-8758-d68a925daa19",
   "metadata": {},
   "outputs": [
    {
     "data": {
      "text/plain": [
       "['이름', '나이', '주소']"
      ]
     },
     "execution_count": 167,
     "metadata": {},
     "output_type": "execute_result"
    }
   ],
   "source": [
    "d = {\"이름\":\"구자현\", \"나이\":27,\"주소\":\"서울\"}\n",
    "list(d) # 키 값만 사용"
   ]
  },
  {
   "cell_type": "code",
   "execution_count": 168,
   "id": "e045f53f-8511-4d59-bc73-55384f018c7e",
   "metadata": {},
   "outputs": [
    {
     "data": {
      "text/plain": [
       "{'나이', '이름', '주소'}"
      ]
     },
     "execution_count": 168,
     "metadata": {},
     "output_type": "execute_result"
    }
   ],
   "source": [
    "set(d)"
   ]
  },
  {
   "cell_type": "code",
   "execution_count": 169,
   "id": "cf0c3f30-30cb-4d5d-a528-6302e1f44eac",
   "metadata": {},
   "outputs": [
    {
     "data": {
      "text/plain": [
       "('이름', '나이', '주소')"
      ]
     },
     "execution_count": 169,
     "metadata": {},
     "output_type": "execute_result"
    }
   ],
   "source": [
    "tuple(d)"
   ]
  },
  {
   "cell_type": "markdown",
   "id": "b4671a5d",
   "metadata": {
    "slideshow": {
     "slide_type": "skip"
    }
   },
   "source": [
    "# TODO\n"
   ]
  },
  {
   "cell_type": "code",
   "execution_count": 2,
   "id": "fb415944-6328-41e3-8fa4-992f4f510bd0",
   "metadata": {
    "slideshow": {
     "slide_type": "skip"
    }
   },
   "outputs": [],
   "source": [
    "# 문제 1 ~ 7\n",
    "jumsu = [100, 90, 100, 80, 70, 100, 80, 90, 95, 85]\n",
    "# 위 리스트는 학생번호 1번 ~ 10번까지 10명의 시험 점수이다."
   ]
  },
  {
   "cell_type": "code",
   "execution_count": 3,
   "id": "72428d29-d72c-4533-a244-212439ae8aca",
   "metadata": {
    "slideshow": {
     "slide_type": "skip"
    }
   },
   "outputs": [
    {
     "name": "stdout",
     "output_type": "stream",
     "text": [
      "7번의 점수 :  80\n"
     ]
    }
   ],
   "source": [
    "# (1)  7번의 점수를 출력하세요\n",
    "print(\"7번의 점수 : \",jumsu[6])   # indexing"
   ]
  },
  {
   "cell_type": "code",
   "execution_count": 239,
   "id": "f36ae99c-7339-4f4d-90f9-e5eefa6a9c1c",
   "metadata": {
    "slideshow": {
     "slide_type": "skip"
    }
   },
   "outputs": [
    {
     "name": "stdout",
     "output_type": "stream",
     "text": [
      "1번부터 5번까지의 점수 :  [100, 90, 100, 80, 70]\n"
     ]
    }
   ],
   "source": [
    "# (2)  1번부터 5번까지의 점수를 출력하세요.\n",
    "print(\"1번부터 5번까지의 점수 : \",jumsu[0:5:1])  # slicing"
   ]
  },
  {
   "cell_type": "code",
   "execution_count": 241,
   "id": "d2fa122f-0585-48c4-9435-098437fe5c25",
   "metadata": {
    "slideshow": {
     "slide_type": "skip"
    }
   },
   "outputs": [
    {
     "name": "stdout",
     "output_type": "stream",
     "text": [
      "4,5,6,7번의 점수 :  [80, 70, 100, 80]\n"
     ]
    }
   ],
   "source": [
    "# (3)  4, 5, 6, 7번의 점수를 출력하세요.\n",
    "print(\"4,5,6,7번의 점수 : \", jumsu[3:7:1])"
   ]
  },
  {
   "cell_type": "code",
   "execution_count": 244,
   "id": "002e781b-4f9f-4ab9-b8ca-09c75587127a",
   "metadata": {
    "slideshow": {
     "slide_type": "skip"
    }
   },
   "outputs": [
    {
     "name": "stdout",
     "output_type": "stream",
     "text": [
      "짝수번째 점수 :  [100, 100, 70, 80, 95]\n"
     ]
    }
   ],
   "source": [
    "# (4) 짝수번째 점수를 출력하세요.\n",
    "print(\"짝수번째 점수 : \", jumsu[::2])"
   ]
  },
  {
   "cell_type": "code",
   "execution_count": 245,
   "id": "f7317715-b4e7-4fda-8151-de6cde832fa2",
   "metadata": {
    "slideshow": {
     "slide_type": "skip"
    }
   },
   "outputs": [
    {
     "name": "stdout",
     "output_type": "stream",
     "text": [
      "홀수번째 점수 :  [90, 80, 100, 90, 85]\n"
     ]
    }
   ],
   "source": [
    "# (5) 홀수번째 점수를 출력하세요.\n",
    "print(\"홀수번째 점수 : \", jumsu[1::2])"
   ]
  },
  {
   "cell_type": "code",
   "execution_count": 247,
   "id": "7f3f7b39-28e9-4c71-85b8-8eba91a79f93",
   "metadata": {
    "slideshow": {
     "slide_type": "skip"
    }
   },
   "outputs": [
    {
     "name": "stdout",
     "output_type": "stream",
     "text": [
      "변경된 점수 :  [100, 90, 100, 80, 70, 100, 80, 90, 20, 85]\n"
     ]
    }
   ],
   "source": [
    "# (6) 9번의 점수를 20으로 변경하고 전체 출력하세요.\n",
    "jumsu[8] = 20 \n",
    "print(\"변경된 점수 : \", jumsu)"
   ]
  },
  {
   "cell_type": "code",
   "execution_count": 253,
   "id": "a968f057-bc5f-43dc-b122-2638d233db75",
   "metadata": {
    "slideshow": {
     "slide_type": "skip"
    }
   },
   "outputs": [
    {
     "name": "stdout",
     "output_type": "stream",
     "text": [
      "중복 점수 제거 :  {100, 70, 80, 20, 85, 90}\n"
     ]
    }
   ],
   "source": [
    "# (7) 중복된 점수는 제거하고 하나씩만 나오도록 출력하세요.\n",
    "l = jumsu\n",
    "# list(set(jumsu))\n",
    "print(\"중복 점수 제거 : \", set(l))     # set은 개별적으로 출력이 안되므로 보통은 list로 만들어놓고 푼다. "
   ]
  },
  {
   "cell_type": "code",
   "execution_count": 273,
   "id": "3149e1ae-1c8b-4f95-bbc6-8ea2d040b72e",
   "metadata": {
    "slideshow": {
     "slide_type": "skip"
    }
   },
   "outputs": [
    {
     "data": {
      "text/plain": [
       "['복숭아', '수박', '딸기']"
      ]
     },
     "execution_count": 273,
     "metadata": {},
     "output_type": "execute_result"
    }
   ],
   "source": [
    "# 문제 8 ~ 9\n",
    "fruits = [\"복숭아\", \"수박\", \"딸기\"]\n",
    "fruits"
   ]
  },
  {
   "cell_type": "code",
   "execution_count": 275,
   "id": "cd1751ef-5553-4f85-8a02-4862e0b0bd31",
   "metadata": {},
   "outputs": [
    {
     "data": {
      "text/plain": [
       "['복숭아', '수박', '딸기', '사과', '귤']"
      ]
     },
     "execution_count": 275,
     "metadata": {},
     "output_type": "execute_result"
    }
   ],
   "source": [
    "# (8) fruits 리스트에 마지막 원소로 \"사과\", \"귤\"을 추가하세요.\n",
    "fruits.extend([\"사과\",\"귤\"])   # fruits는 list 형태이고, 여러개의 요소를 넣을 땐, extend함수 사용 , fruits.append(\"토마토\") 개별적으로 넣을 떄\n",
    "fruits"
   ]
  },
  {
   "cell_type": "code",
   "execution_count": 276,
   "id": "f378fb32-aa9b-49dd-abbb-f8ac1e9024db",
   "metadata": {
    "slideshow": {
     "slide_type": "skip"
    }
   },
   "outputs": [
    {
     "name": "stdout",
     "output_type": "stream",
     "text": [
      "['수박', '딸기', '사과', '귤']\n"
     ]
    }
   ],
   "source": [
    "# (9) fruits 리스트에서 \"복숭아\"를 제거하세요.\n",
    "fruits.remove(\"복숭아\")     # fruits.pop(0) / pop() : 마지막 index를 삭제 \n",
    "                           # del fruits[0]\n",
    "print(fruits)"
   ]
  },
  {
   "cell_type": "code",
   "execution_count": 277,
   "id": "0a9c70e4-c6f5-4eee-a642-98616f91f932",
   "metadata": {
    "slideshow": {
     "slide_type": "skip"
    }
   },
   "outputs": [
    {
     "data": {
      "text/plain": [
       "{'이름': '구자현',\n",
       " '나이': 27,\n",
       " 'email주소': 'wkgus0304',\n",
       " '취미': ['축구', '노래'],\n",
       " '결혼유무': '무'}"
      ]
     },
     "execution_count": 277,
     "metadata": {},
     "output_type": "execute_result"
    }
   ],
   "source": [
    "# 문제 10 ~ 15\n",
    "# (10)본인의 이름, 나이, email주소, 취미, 결혼유무를 사전(딕셔너리)으로 생성.\n",
    "# 취미는 2개 이상의 값을 넣는다..\n",
    "me = {\"이름\":\"구자현\",\n",
    "      \"나이\":27,\n",
    "      \"email주소\":\"wkgus0304\",\n",
    "      \"취미\":[\"축구\",\"노래\"],\n",
    "      \"결혼유무\":\"무\"}\n",
    "me\n",
    "\n",
    "# dict(이름=\"구자현\",나이=27,,,)"
   ]
  },
  {
   "cell_type": "code",
   "execution_count": 279,
   "id": "c2e92d72-b932-4ae9-a446-d561ab9dcacd",
   "metadata": {
    "slideshow": {
     "slide_type": "skip"
    }
   },
   "outputs": [
    {
     "name": "stdout",
     "output_type": "stream",
     "text": [
      "구자현 wkgus0304\n"
     ]
    }
   ],
   "source": [
    "# (11) 위 딕셔너리에서 이름과 email주소를 조회해서 출력하세요.\n",
    "print(me['이름'],me['email주소'])"
   ]
  },
  {
   "cell_type": "code",
   "execution_count": 280,
   "id": "5a257c16-963c-45c3-96b3-9722312dd98d",
   "metadata": {
    "slideshow": {
     "slide_type": "skip"
    }
   },
   "outputs": [
    {
     "data": {
      "text/plain": [
       "'노래'"
      ]
     },
     "execution_count": 280,
     "metadata": {},
     "output_type": "execute_result"
    }
   ],
   "source": [
    "# (12) 위 딕셔너리에서 취미중 두번째 취미를 조회해서 출력하세요.\n",
    "me['취미'][1]"
   ]
  },
  {
   "cell_type": "code",
   "execution_count": 281,
   "id": "1c321f43-e82d-4636-9f6e-895238cdf4af",
   "metadata": {
    "slideshow": {
     "slide_type": "skip"
    }
   },
   "outputs": [
    {
     "data": {
      "text/plain": [
       "{'이름': '구자현',\n",
       " '나이': 27,\n",
       " 'email주소': 'wkgus0304',\n",
       " '취미': ['축구', '노래'],\n",
       " '결혼유무': '무',\n",
       " '몸무게': 64,\n",
       " '키': 170}"
      ]
     },
     "execution_count": 281,
     "metadata": {},
     "output_type": "execute_result"
    }
   ],
   "source": [
    "# (13) 위 딕셔너리에 몸무게와 키 항목을 추가하세요.\n",
    "me['몸무게'] = 64\n",
    "me['키'] = 170\n",
    "me"
   ]
  },
  {
   "cell_type": "code",
   "execution_count": 282,
   "id": "ca2a9880-94f5-4017-a785-6df97ce53971",
   "metadata": {
    "slideshow": {
     "slide_type": "skip"
    }
   },
   "outputs": [
    {
     "data": {
      "text/plain": [
       "{'이름': '구자현',\n",
       " '나이': 27,\n",
       " 'email주소': 'rnwkgus0304',\n",
       " '취미': ['축구', '노래'],\n",
       " '결혼유무': '무',\n",
       " '몸무게': 64,\n",
       " '키': 170}"
      ]
     },
     "execution_count": 282,
     "metadata": {},
     "output_type": "execute_result"
    }
   ],
   "source": [
    "# (14) 위 딕셔너리에서 email 주소를 다른 값으로 변경하세요.\n",
    "me['email주소'] = 'rnwkgus0304'\n",
    "me"
   ]
  },
  {
   "cell_type": "code",
   "execution_count": 285,
   "id": "22deed2f-e056-43fc-82eb-f4d66ca50c05",
   "metadata": {
    "slideshow": {
     "slide_type": "skip"
    }
   },
   "outputs": [
    {
     "data": {
      "text/plain": [
       "{'이름': '구자현',\n",
       " 'email주소': 'rnwkgus0304',\n",
       " '취미': ['축구', '노래'],\n",
       " '결혼유무': '무',\n",
       " '몸무게': 64,\n",
       " '키': 170}"
      ]
     },
     "execution_count": 285,
     "metadata": {},
     "output_type": "execute_result"
    }
   ],
   "source": [
    "# (15) 위 딕셔너리에서 나이를 제거하세요.\n",
    "me.pop(\"나이\")   # del me['나이']\n",
    "me"
   ]
  }
 ],
 "metadata": {
  "kernelspec": {
   "display_name": "Python 3 (ipykernel)",
   "language": "python",
   "name": "python3"
  },
  "language_info": {
   "codemirror_mode": {
    "name": "ipython",
    "version": 3
   },
   "file_extension": ".py",
   "mimetype": "text/x-python",
   "name": "python",
   "nbconvert_exporter": "python",
   "pygments_lexer": "ipython3",
   "version": "3.9.21"
  },
  "toc": {
   "base_numbering": 1,
   "nav_menu": {},
   "number_sections": true,
   "sideBar": true,
   "skip_h1_title": false,
   "title_cell": "Table of Contents",
   "title_sidebar": "Contents",
   "toc_cell": false,
   "toc_position": {
    "height": "calc(100% - 180px)",
    "left": "10px",
    "top": "150px",
    "width": "512px"
   },
   "toc_section_display": true,
   "toc_window_display": true
  },
  "varInspector": {
   "cols": {
    "lenName": 16,
    "lenType": 16,
    "lenVar": 40
   },
   "kernels_config": {
    "python": {
     "delete_cmd_postfix": "",
     "delete_cmd_prefix": "del ",
     "library": "var_list.py",
     "varRefreshCmd": "print(var_dic_list())"
    },
    "r": {
     "delete_cmd_postfix": ") ",
     "delete_cmd_prefix": "rm(",
     "library": "var_list.r",
     "varRefreshCmd": "cat(var_dic_list()) "
    }
   },
   "types_to_exclude": [
    "module",
    "function",
    "builtin_function_or_method",
    "instance",
    "_Feature"
   ],
   "window_display": false
  }
 },
 "nbformat": 4,
 "nbformat_minor": 5
}
