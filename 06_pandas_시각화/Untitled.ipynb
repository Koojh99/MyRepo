{
 "cells": [
  {
   "cell_type": "code",
   "execution_count": null,
   "id": "410007c0-d01e-4854-b0ba-55dddc6fe18a",
   "metadata": {},
   "outputs": [],
   "source": [
    "wallet = [0,0]\n",
    "bill = [0,0]\n",
    "def solution(wallet, bill):\n",
    "    answer = 0\n",
    "    while True:\n",
    "        if 10 <= wallet[0] and wallet[1] <= 100:\n",
    "            break\n",
    "        print(\"제한사항을 확인하세요.\")\n",
    "    while True:\n",
    "        if 10 <= bill[0] and bill[1] <= 2000:\n",
    "            break\n",
    "        print(\"제한사항을 확인하세요.\")\n",
    "        \n",
    "    while min(bill) > min(wallet) or max(bill) > max(wallet):\n",
    "        if bill[0] > bill[1]:\n",
    "            bill[0] // =2 \n",
    "        else:\n",
    "            bill[1] //= 2 \n",
    "        answer += 1 \n",
    "\n",
    "    return answer"
   ]
  },
  {
   "cell_type": "code",
   "execution_count": null,
   "id": "56f2e54b-d7eb-4d07-84b1-5ac781be0104",
   "metadata": {},
   "outputs": [],
   "source": [
    "solution([50,50],[100,241])"
   ]
  },
  {
   "cell_type": "code",
   "execution_count": null,
   "id": "8d1e4191-5527-4df6-9b92-9d1ee1d6c290",
   "metadata": {},
   "outputs": [],
   "source": []
  }
 ],
 "metadata": {
  "kernelspec": {
   "display_name": "Python 3 (ipykernel)",
   "language": "python",
   "name": "python3"
  },
  "language_info": {
   "codemirror_mode": {
    "name": "ipython",
    "version": 3
   },
   "file_extension": ".py",
   "mimetype": "text/x-python",
   "name": "python",
   "nbconvert_exporter": "python",
   "pygments_lexer": "ipython3",
   "version": "3.12.9"
  }
 },
 "nbformat": 4,
 "nbformat_minor": 5
}
